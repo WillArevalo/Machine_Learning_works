{
 "cells": [
  {
   "cell_type": "markdown",
   "metadata": {},
   "source": [
    "# Clustering_n_Anomalies"
   ]
  },
  {
   "cell_type": "code",
   "execution_count": 1,
   "metadata": {},
   "outputs": [
    {
     "name": "stdout",
     "output_type": "stream",
     "text": [
      "numpy v.1.18.1\n",
      "pandas v.1.0.5\n",
      "sklearn v.0.22.1\n",
      "missingno v.0.4.2\n"
     ]
    }
   ],
   "source": [
    "import numpy as np # For numeric operation\n",
    "import pandas as pd # For Tabular information\n",
    "import matplotlib.pyplot as plt # For draw plots\n",
    "%matplotlib inline\n",
    "import sklearn as sk # For Machine Learnig Algorithms\n",
    "import kaggle # For download dataset with api\n",
    "import missingno as msno # Tools for missing values\n",
    "\n",
    "print(f'numpy v.{np.__version__}\\npandas v.{pd.__version__}\\nsklearn v.{sk.__version__}\\nmissingno v.{msno.__version__}')\n"
   ]
  },
  {
   "cell_type": "markdown",
   "metadata": {},
   "source": [
    "## EDA"
   ]
  },
  {
   "cell_type": "code",
   "execution_count": 2,
   "metadata": {},
   "outputs": [
    {
     "name": "stderr",
     "output_type": "stream",
     "text": [
      "100%|██████████| 58.6k/58.6k [00:00<00:00, 459kB/s]"
     ]
    },
    {
     "name": "stdout",
     "output_type": "stream",
     "text": [
      "Downloading abstract-data-set-for-credit-card-fraud-detection.zip to www.kaggle.com/shubhamjoshi2130of/abstract-data-set-for-credit-card-fraud-detection\n",
      "\n"
     ]
    },
    {
     "name": "stderr",
     "output_type": "stream",
     "text": [
      "\n"
     ]
    },
    {
     "data": {
      "text/plain": [
       "{'id': 20470,\n",
       " 'ref': 'shubhamjoshi2130of/abstract-data-set-for-credit-card-fraud-detection',\n",
       " 'subtitle': 'Use this data set to develop Models to detect credit card fraud.',\n",
       " 'tags': [{'ref': 'computing',\n",
       "   'competitionCount': 0,\n",
       "   'datasetCount': 6589,\n",
       "   'description': 'Computing is any goal-oriented activity requiring, benefiting from, or creating a mathematical sequence of steps known as an algorithm.',\n",
       "   'fullPath': 'technology and applied sciences > computing',\n",
       "   'isAutomatic': False,\n",
       "   'name': 'computing',\n",
       "   'scriptCount': 6,\n",
       "   'totalCount': 6595}],\n",
       " 'creatorName': 'VinayakJoshi',\n",
       " 'creatorUrl': None,\n",
       " 'totalBytes': 161497,\n",
       " 'url': 'https://www.kaggle.com/shubhamjoshi2130of/abstract-data-set-for-credit-card-fraud-detection',\n",
       " 'lastUpdated': '2018-04-09T05:53:13.11Z',\n",
       " 'downloadCount': 1776,\n",
       " 'isPrivate': False,\n",
       " 'isReviewed': False,\n",
       " 'isFeatured': False,\n",
       " 'licenseName': 'Data files © Original Authors',\n",
       " 'description': '',\n",
       " 'ownerName': 'VinayakJoshi',\n",
       " 'ownerRef': 'shubhamjoshi2130of',\n",
       " 'kernelCount': 3,\n",
       " 'title': 'Abstract data set for Credit card fraud detection',\n",
       " 'topicCount': 1,\n",
       " 'viewCount': 9506,\n",
       " 'voteCount': 40,\n",
       " 'currentVersionNumber': 1,\n",
       " 'files': [],\n",
       " 'versions': [{'versionNumber': 1,\n",
       "   'creationDate': '2018-04-09T05:53:13.11Z',\n",
       "   'creatorName': 'VinayakJoshi',\n",
       "   'creatorRef': 'abstract-data-set-for-credit-card-fraud-detection',\n",
       "   'versionNotes': 'Initial release',\n",
       "   'status': 'Ready'}],\n",
       " 'usabilityRating': 0.47058824}"
      ]
     },
     "execution_count": 2,
     "metadata": {},
     "output_type": "execute_result"
    }
   ],
   "source": [
    "# Download Dataset\n",
    "#https://www.kaggle.com/iabhishekofficial/mobile-price-classification/train.csv\n",
    "kaggle.api.dataset_download_cli('shubhamjoshi2130of/abstract-data-set-for-credit-card-fraud-detection', path='www.kaggle.com/shubhamjoshi2130of/abstract-data-set-for-credit-card-fraud-detection', unzip=True)\n",
    "\n",
    "\n",
    "credit_card_data = pd.read_csv(r\".\\www.kaggle.com\\shubhamjoshi2130of\\abstract-data-set-for-credit-card-fraud-detection\\creditcardcsvpresent.csv\")\n",
    "thread = kaggle.api.datasets_view('shubhamjoshi2130of','abstract-data-set-for-credit-card-fraud-detection',async_req=True)\n",
    "result = thread.get()\n",
    "result"
   ]
  },
  {
   "cell_type": "code",
   "execution_count": 3,
   "metadata": {},
   "outputs": [
    {
     "name": "stdout",
     "output_type": "stream",
     "text": [
      "credit_card_data have 3075 rows by 12 columns\n"
     ]
    }
   ],
   "source": [
    "# Shape\n",
    "print(f\"\"\"credit_card_data have {credit_card_data.shape[0]} rows by {credit_card_data.shape[1]} columns\"\"\")"
   ]
  },
  {
   "cell_type": "code",
   "execution_count": 4,
   "metadata": {},
   "outputs": [
    {
     "data": {
      "text/html": [
       "<div>\n",
       "<style scoped>\n",
       "    .dataframe tbody tr th:only-of-type {\n",
       "        vertical-align: middle;\n",
       "    }\n",
       "\n",
       "    .dataframe tbody tr th {\n",
       "        vertical-align: top;\n",
       "    }\n",
       "\n",
       "    .dataframe thead th {\n",
       "        text-align: right;\n",
       "    }\n",
       "</style>\n",
       "<table border=\"1\" class=\"dataframe\">\n",
       "  <thead>\n",
       "    <tr style=\"text-align: right;\">\n",
       "      <th></th>\n",
       "      <th>Merchant_id</th>\n",
       "      <th>Transaction date</th>\n",
       "      <th>Average Amount/transaction/day</th>\n",
       "      <th>Transaction_amount</th>\n",
       "      <th>Is declined</th>\n",
       "      <th>Total Number of declines/day</th>\n",
       "      <th>isForeignTransaction</th>\n",
       "      <th>isHighRiskCountry</th>\n",
       "      <th>Daily_chargeback_avg_amt</th>\n",
       "      <th>6_month_avg_chbk_amt</th>\n",
       "      <th>6-month_chbk_freq</th>\n",
       "      <th>isFradulent</th>\n",
       "    </tr>\n",
       "  </thead>\n",
       "  <tbody>\n",
       "    <tr>\n",
       "      <th>0</th>\n",
       "      <td>3160040998</td>\n",
       "      <td>NaN</td>\n",
       "      <td>100.0</td>\n",
       "      <td>3000.0</td>\n",
       "      <td>N</td>\n",
       "      <td>5</td>\n",
       "      <td>Y</td>\n",
       "      <td>Y</td>\n",
       "      <td>0</td>\n",
       "      <td>0.0</td>\n",
       "      <td>0</td>\n",
       "      <td>Y</td>\n",
       "    </tr>\n",
       "    <tr>\n",
       "      <th>1</th>\n",
       "      <td>3160040998</td>\n",
       "      <td>NaN</td>\n",
       "      <td>100.0</td>\n",
       "      <td>4300.0</td>\n",
       "      <td>N</td>\n",
       "      <td>5</td>\n",
       "      <td>Y</td>\n",
       "      <td>Y</td>\n",
       "      <td>0</td>\n",
       "      <td>0.0</td>\n",
       "      <td>0</td>\n",
       "      <td>Y</td>\n",
       "    </tr>\n",
       "    <tr>\n",
       "      <th>2</th>\n",
       "      <td>3160041896</td>\n",
       "      <td>NaN</td>\n",
       "      <td>185.5</td>\n",
       "      <td>4823.0</td>\n",
       "      <td>Y</td>\n",
       "      <td>5</td>\n",
       "      <td>N</td>\n",
       "      <td>N</td>\n",
       "      <td>0</td>\n",
       "      <td>0.0</td>\n",
       "      <td>0</td>\n",
       "      <td>Y</td>\n",
       "    </tr>\n",
       "    <tr>\n",
       "      <th>3</th>\n",
       "      <td>3160141996</td>\n",
       "      <td>NaN</td>\n",
       "      <td>185.5</td>\n",
       "      <td>5008.5</td>\n",
       "      <td>Y</td>\n",
       "      <td>8</td>\n",
       "      <td>N</td>\n",
       "      <td>N</td>\n",
       "      <td>0</td>\n",
       "      <td>0.0</td>\n",
       "      <td>0</td>\n",
       "      <td>Y</td>\n",
       "    </tr>\n",
       "    <tr>\n",
       "      <th>4</th>\n",
       "      <td>3160241992</td>\n",
       "      <td>NaN</td>\n",
       "      <td>500.0</td>\n",
       "      <td>26000.0</td>\n",
       "      <td>N</td>\n",
       "      <td>0</td>\n",
       "      <td>Y</td>\n",
       "      <td>Y</td>\n",
       "      <td>800</td>\n",
       "      <td>677.2</td>\n",
       "      <td>6</td>\n",
       "      <td>Y</td>\n",
       "    </tr>\n",
       "  </tbody>\n",
       "</table>\n",
       "</div>"
      ],
      "text/plain": [
       "   Merchant_id  Transaction date  Average Amount/transaction/day  \\\n",
       "0   3160040998               NaN                           100.0   \n",
       "1   3160040998               NaN                           100.0   \n",
       "2   3160041896               NaN                           185.5   \n",
       "3   3160141996               NaN                           185.5   \n",
       "4   3160241992               NaN                           500.0   \n",
       "\n",
       "   Transaction_amount Is declined  Total Number of declines/day  \\\n",
       "0              3000.0           N                             5   \n",
       "1              4300.0           N                             5   \n",
       "2              4823.0           Y                             5   \n",
       "3              5008.5           Y                             8   \n",
       "4             26000.0           N                             0   \n",
       "\n",
       "  isForeignTransaction isHighRiskCountry  Daily_chargeback_avg_amt  \\\n",
       "0                    Y                 Y                         0   \n",
       "1                    Y                 Y                         0   \n",
       "2                    N                 N                         0   \n",
       "3                    N                 N                         0   \n",
       "4                    Y                 Y                       800   \n",
       "\n",
       "   6_month_avg_chbk_amt  6-month_chbk_freq isFradulent  \n",
       "0                   0.0                  0           Y  \n",
       "1                   0.0                  0           Y  \n",
       "2                   0.0                  0           Y  \n",
       "3                   0.0                  0           Y  \n",
       "4                 677.2                  6           Y  "
      ]
     },
     "execution_count": 4,
     "metadata": {},
     "output_type": "execute_result"
    }
   ],
   "source": [
    "pd.set_option('display.max_columns', 30) #Configurando para que se muestren maximo 30 columnas\n",
    "credit_card_data.head()"
   ]
  },
  {
   "cell_type": "code",
   "execution_count": 5,
   "metadata": {},
   "outputs": [
    {
     "name": "stdout",
     "output_type": "stream",
     "text": [
      "<class 'pandas.core.frame.DataFrame'>\n",
      "RangeIndex: 3075 entries, 0 to 3074\n",
      "Data columns (total 12 columns):\n",
      " #   Column                          Non-Null Count  Dtype  \n",
      "---  ------                          --------------  -----  \n",
      " 0   Merchant_id                     3075 non-null   int64  \n",
      " 1   Transaction date                0 non-null      float64\n",
      " 2   Average Amount/transaction/day  3075 non-null   float64\n",
      " 3   Transaction_amount              3075 non-null   float64\n",
      " 4   Is declined                     3075 non-null   object \n",
      " 5   Total Number of declines/day    3075 non-null   int64  \n",
      " 6   isForeignTransaction            3075 non-null   object \n",
      " 7   isHighRiskCountry               3075 non-null   object \n",
      " 8   Daily_chargeback_avg_amt        3075 non-null   int64  \n",
      " 9   6_month_avg_chbk_amt            3075 non-null   float64\n",
      " 10  6-month_chbk_freq               3075 non-null   int64  \n",
      " 11  isFradulent                     3075 non-null   object \n",
      "dtypes: float64(4), int64(4), object(4)\n",
      "memory usage: 288.4+ KB\n"
     ]
    }
   ],
   "source": [
    "#Show info about Dataframe\n",
    "credit_card_data.info()"
   ]
  },
  {
   "cell_type": "markdown",
   "metadata": {},
   "source": [
    "Transaction date haven't logs, we will remove"
   ]
  },
  {
   "cell_type": "code",
   "execution_count": 6,
   "metadata": {},
   "outputs": [],
   "source": [
    "credit_card_data = credit_card_data.drop(['Transaction date'], axis=1)"
   ]
  },
  {
   "cell_type": "code",
   "execution_count": 7,
   "metadata": {},
   "outputs": [
    {
     "name": "stdout",
     "output_type": "stream",
     "text": [
      "(3075, 11)\n",
      "(3075, 11)\n"
     ]
    }
   ],
   "source": [
    "# Removing duplicates\n",
    "print(credit_card_data.shape)\n",
    "credit_card_data = credit_card_data.drop_duplicates()\n",
    "print(credit_card_data.shape)"
   ]
  },
  {
   "cell_type": "markdown",
   "metadata": {},
   "source": [
    "Dataset haven't duplicates"
   ]
  },
  {
   "cell_type": "markdown",
   "metadata": {},
   "source": [
    "### Description"
   ]
  },
  {
   "cell_type": "markdown",
   "metadata": {},
   "source": [
    "#### Numerical Description"
   ]
  },
  {
   "cell_type": "code",
   "execution_count": 8,
   "metadata": {
    "scrolled": true
   },
   "outputs": [
    {
     "data": {
      "text/html": [
       "<div>\n",
       "<style scoped>\n",
       "    .dataframe tbody tr th:only-of-type {\n",
       "        vertical-align: middle;\n",
       "    }\n",
       "\n",
       "    .dataframe tbody tr th {\n",
       "        vertical-align: top;\n",
       "    }\n",
       "\n",
       "    .dataframe thead th {\n",
       "        text-align: right;\n",
       "    }\n",
       "</style>\n",
       "<table border=\"1\" class=\"dataframe\">\n",
       "  <thead>\n",
       "    <tr style=\"text-align: right;\">\n",
       "      <th></th>\n",
       "      <th>Merchant_id</th>\n",
       "      <th>Average Amount/transaction/day</th>\n",
       "      <th>Transaction_amount</th>\n",
       "      <th>Total Number of declines/day</th>\n",
       "      <th>Daily_chargeback_avg_amt</th>\n",
       "      <th>6_month_avg_chbk_amt</th>\n",
       "      <th>6-month_chbk_freq</th>\n",
       "    </tr>\n",
       "  </thead>\n",
       "  <tbody>\n",
       "    <tr>\n",
       "      <th>count</th>\n",
       "      <td>3.075000e+03</td>\n",
       "      <td>3075.000000</td>\n",
       "      <td>3075.000000</td>\n",
       "      <td>3075.000000</td>\n",
       "      <td>3075.000000</td>\n",
       "      <td>3075.000000</td>\n",
       "      <td>3075.000000</td>\n",
       "    </tr>\n",
       "    <tr>\n",
       "      <th>mean</th>\n",
       "      <td>5.026634e+09</td>\n",
       "      <td>515.026556</td>\n",
       "      <td>9876.399210</td>\n",
       "      <td>0.957398</td>\n",
       "      <td>55.737561</td>\n",
       "      <td>40.022407</td>\n",
       "      <td>0.391870</td>\n",
       "    </tr>\n",
       "    <tr>\n",
       "      <th>std</th>\n",
       "      <td>9.870778e+08</td>\n",
       "      <td>291.906978</td>\n",
       "      <td>10135.331016</td>\n",
       "      <td>2.192391</td>\n",
       "      <td>206.634779</td>\n",
       "      <td>155.968840</td>\n",
       "      <td>1.548479</td>\n",
       "    </tr>\n",
       "    <tr>\n",
       "      <th>min</th>\n",
       "      <td>3.160041e+09</td>\n",
       "      <td>4.011527</td>\n",
       "      <td>0.000000</td>\n",
       "      <td>0.000000</td>\n",
       "      <td>0.000000</td>\n",
       "      <td>0.000000</td>\n",
       "      <td>0.000000</td>\n",
       "    </tr>\n",
       "    <tr>\n",
       "      <th>25%</th>\n",
       "      <td>4.170814e+09</td>\n",
       "      <td>269.788047</td>\n",
       "      <td>2408.781147</td>\n",
       "      <td>0.000000</td>\n",
       "      <td>0.000000</td>\n",
       "      <td>0.000000</td>\n",
       "      <td>0.000000</td>\n",
       "    </tr>\n",
       "    <tr>\n",
       "      <th>50%</th>\n",
       "      <td>5.025578e+09</td>\n",
       "      <td>502.549575</td>\n",
       "      <td>6698.891856</td>\n",
       "      <td>0.000000</td>\n",
       "      <td>0.000000</td>\n",
       "      <td>0.000000</td>\n",
       "      <td>0.000000</td>\n",
       "    </tr>\n",
       "    <tr>\n",
       "      <th>75%</th>\n",
       "      <td>5.889625e+09</td>\n",
       "      <td>765.272803</td>\n",
       "      <td>14422.568935</td>\n",
       "      <td>0.000000</td>\n",
       "      <td>0.000000</td>\n",
       "      <td>0.000000</td>\n",
       "      <td>0.000000</td>\n",
       "    </tr>\n",
       "    <tr>\n",
       "      <th>max</th>\n",
       "      <td>6.665906e+09</td>\n",
       "      <td>2000.000000</td>\n",
       "      <td>108000.000000</td>\n",
       "      <td>20.000000</td>\n",
       "      <td>998.000000</td>\n",
       "      <td>998.000000</td>\n",
       "      <td>9.000000</td>\n",
       "    </tr>\n",
       "  </tbody>\n",
       "</table>\n",
       "</div>"
      ],
      "text/plain": [
       "        Merchant_id  Average Amount/transaction/day  Transaction_amount  \\\n",
       "count  3.075000e+03                     3075.000000         3075.000000   \n",
       "mean   5.026634e+09                      515.026556         9876.399210   \n",
       "std    9.870778e+08                      291.906978        10135.331016   \n",
       "min    3.160041e+09                        4.011527            0.000000   \n",
       "25%    4.170814e+09                      269.788047         2408.781147   \n",
       "50%    5.025578e+09                      502.549575         6698.891856   \n",
       "75%    5.889625e+09                      765.272803        14422.568935   \n",
       "max    6.665906e+09                     2000.000000       108000.000000   \n",
       "\n",
       "       Total Number of declines/day  Daily_chargeback_avg_amt  \\\n",
       "count                   3075.000000               3075.000000   \n",
       "mean                       0.957398                 55.737561   \n",
       "std                        2.192391                206.634779   \n",
       "min                        0.000000                  0.000000   \n",
       "25%                        0.000000                  0.000000   \n",
       "50%                        0.000000                  0.000000   \n",
       "75%                        0.000000                  0.000000   \n",
       "max                       20.000000                998.000000   \n",
       "\n",
       "       6_month_avg_chbk_amt  6-month_chbk_freq  \n",
       "count           3075.000000        3075.000000  \n",
       "mean              40.022407           0.391870  \n",
       "std              155.968840           1.548479  \n",
       "min                0.000000           0.000000  \n",
       "25%                0.000000           0.000000  \n",
       "50%                0.000000           0.000000  \n",
       "75%                0.000000           0.000000  \n",
       "max              998.000000           9.000000  "
      ]
     },
     "execution_count": 8,
     "metadata": {},
     "output_type": "execute_result"
    }
   ],
   "source": [
    "# Description Number\n",
    "credit_card_data.describe()"
   ]
  },
  {
   "cell_type": "markdown",
   "metadata": {},
   "source": [
    "#### Categorical Description"
   ]
  },
  {
   "cell_type": "code",
   "execution_count": 9,
   "metadata": {
    "scrolled": true
   },
   "outputs": [
    {
     "data": {
      "text/html": [
       "<div>\n",
       "<style scoped>\n",
       "    .dataframe tbody tr th:only-of-type {\n",
       "        vertical-align: middle;\n",
       "    }\n",
       "\n",
       "    .dataframe tbody tr th {\n",
       "        vertical-align: top;\n",
       "    }\n",
       "\n",
       "    .dataframe thead th {\n",
       "        text-align: right;\n",
       "    }\n",
       "</style>\n",
       "<table border=\"1\" class=\"dataframe\">\n",
       "  <thead>\n",
       "    <tr style=\"text-align: right;\">\n",
       "      <th></th>\n",
       "      <th>Is declined</th>\n",
       "      <th>isForeignTransaction</th>\n",
       "      <th>isHighRiskCountry</th>\n",
       "      <th>isFradulent</th>\n",
       "    </tr>\n",
       "  </thead>\n",
       "  <tbody>\n",
       "    <tr>\n",
       "      <th>count</th>\n",
       "      <td>3075</td>\n",
       "      <td>3075</td>\n",
       "      <td>3075</td>\n",
       "      <td>3075</td>\n",
       "    </tr>\n",
       "    <tr>\n",
       "      <th>unique</th>\n",
       "      <td>2</td>\n",
       "      <td>2</td>\n",
       "      <td>2</td>\n",
       "      <td>2</td>\n",
       "    </tr>\n",
       "    <tr>\n",
       "      <th>top</th>\n",
       "      <td>N</td>\n",
       "      <td>N</td>\n",
       "      <td>N</td>\n",
       "      <td>N</td>\n",
       "    </tr>\n",
       "    <tr>\n",
       "      <th>freq</th>\n",
       "      <td>3018</td>\n",
       "      <td>2369</td>\n",
       "      <td>2870</td>\n",
       "      <td>2627</td>\n",
       "    </tr>\n",
       "  </tbody>\n",
       "</table>\n",
       "</div>"
      ],
      "text/plain": [
       "       Is declined isForeignTransaction isHighRiskCountry isFradulent\n",
       "count         3075                 3075              3075        3075\n",
       "unique           2                    2                 2           2\n",
       "top              N                    N                 N           N\n",
       "freq          3018                 2369              2870        2627"
      ]
     },
     "execution_count": 9,
     "metadata": {},
     "output_type": "execute_result"
    }
   ],
   "source": [
    "credit_card_data.describe(include='O')"
   ]
  },
  {
   "cell_type": "markdown",
   "metadata": {},
   "source": [
    "#### Analysis Target"
   ]
  },
  {
   "cell_type": "code",
   "execution_count": 10,
   "metadata": {},
   "outputs": [
    {
     "data": {
      "text/plain": [
       "N    2627\n",
       "Y     448\n",
       "Name: isFradulent, dtype: int64"
      ]
     },
     "execution_count": 10,
     "metadata": {},
     "output_type": "execute_result"
    }
   ],
   "source": [
    "credit_card_data.isFradulent.value_counts()"
   ]
  },
  {
   "cell_type": "code",
   "execution_count": 11,
   "metadata": {},
   "outputs": [
    {
     "data": {
      "text/plain": [
       "<matplotlib.axes._subplots.AxesSubplot at 0x25af68e4448>"
      ]
     },
     "execution_count": 11,
     "metadata": {},
     "output_type": "execute_result"
    },
    {
     "data": {
      "image/png": "[encoded data removed]",
      "text/plain": [
       "<Figure size 432x288 with 1 Axes>"
      ]
     },
     "metadata": {
      "needs_background": "light"
     },
     "output_type": "display_data"
    }
   ],
   "source": [
    "credit_card_data.isFradulent.hist()"
   ]
  },
  {
   "cell_type": "markdown",
   "metadata": {},
   "source": [
    "#### Handling data"
   ]
  },
  {
   "cell_type": "code",
   "execution_count": 12,
   "metadata": {},
   "outputs": [
    {
     "data": {
      "text/plain": [
       "(3075, 11)"
      ]
     },
     "execution_count": 12,
     "metadata": {},
     "output_type": "execute_result"
    }
   ],
   "source": [
    "from sklearn import preprocessing\n",
    "\n",
    "cat_columns= list(credit_card_data.select_dtypes('O').columns)\n",
    "#cat_columns.remove('isFradulent')\n",
    "#credit_card_data = pd.get_dummies(credit_card_data, columns=cat_columns)\n",
    "\n",
    "\n",
    "le = preprocessing.LabelEncoder()\n",
    "for i in cat_columns:\n",
    "    \n",
    "    credit_card_data[i] = le.fit_transform(credit_card_data[i])\n",
    "\n",
    "credit_card_data.shape\n",
    "#Posible use dummies"
   ]
  },
  {
   "cell_type": "code",
   "execution_count": 13,
   "metadata": {},
   "outputs": [
    {
     "data": {
      "text/html": [
       "<div>\n",
       "<style scoped>\n",
       "    .dataframe tbody tr th:only-of-type {\n",
       "        vertical-align: middle;\n",
       "    }\n",
       "\n",
       "    .dataframe tbody tr th {\n",
       "        vertical-align: top;\n",
       "    }\n",
       "\n",
       "    .dataframe thead th {\n",
       "        text-align: right;\n",
       "    }\n",
       "</style>\n",
       "<table border=\"1\" class=\"dataframe\">\n",
       "  <thead>\n",
       "    <tr style=\"text-align: right;\">\n",
       "      <th></th>\n",
       "      <th>Merchant_id</th>\n",
       "      <th>Average Amount/transaction/day</th>\n",
       "      <th>Transaction_amount</th>\n",
       "      <th>Is declined</th>\n",
       "      <th>Total Number of declines/day</th>\n",
       "      <th>isForeignTransaction</th>\n",
       "      <th>isHighRiskCountry</th>\n",
       "      <th>Daily_chargeback_avg_amt</th>\n",
       "      <th>6_month_avg_chbk_amt</th>\n",
       "      <th>6-month_chbk_freq</th>\n",
       "      <th>isFradulent</th>\n",
       "    </tr>\n",
       "  </thead>\n",
       "  <tbody>\n",
       "    <tr>\n",
       "      <th>0</th>\n",
       "      <td>3160040998</td>\n",
       "      <td>100.0</td>\n",
       "      <td>3000.0</td>\n",
       "      <td>0</td>\n",
       "      <td>5</td>\n",
       "      <td>1</td>\n",
       "      <td>1</td>\n",
       "      <td>0</td>\n",
       "      <td>0.0</td>\n",
       "      <td>0</td>\n",
       "      <td>1</td>\n",
       "    </tr>\n",
       "    <tr>\n",
       "      <th>1</th>\n",
       "      <td>3160040998</td>\n",
       "      <td>100.0</td>\n",
       "      <td>4300.0</td>\n",
       "      <td>0</td>\n",
       "      <td>5</td>\n",
       "      <td>1</td>\n",
       "      <td>1</td>\n",
       "      <td>0</td>\n",
       "      <td>0.0</td>\n",
       "      <td>0</td>\n",
       "      <td>1</td>\n",
       "    </tr>\n",
       "    <tr>\n",
       "      <th>2</th>\n",
       "      <td>3160041896</td>\n",
       "      <td>185.5</td>\n",
       "      <td>4823.0</td>\n",
       "      <td>1</td>\n",
       "      <td>5</td>\n",
       "      <td>0</td>\n",
       "      <td>0</td>\n",
       "      <td>0</td>\n",
       "      <td>0.0</td>\n",
       "      <td>0</td>\n",
       "      <td>1</td>\n",
       "    </tr>\n",
       "    <tr>\n",
       "      <th>3</th>\n",
       "      <td>3160141996</td>\n",
       "      <td>185.5</td>\n",
       "      <td>5008.5</td>\n",
       "      <td>1</td>\n",
       "      <td>8</td>\n",
       "      <td>0</td>\n",
       "      <td>0</td>\n",
       "      <td>0</td>\n",
       "      <td>0.0</td>\n",
       "      <td>0</td>\n",
       "      <td>1</td>\n",
       "    </tr>\n",
       "    <tr>\n",
       "      <th>4</th>\n",
       "      <td>3160241992</td>\n",
       "      <td>500.0</td>\n",
       "      <td>26000.0</td>\n",
       "      <td>0</td>\n",
       "      <td>0</td>\n",
       "      <td>1</td>\n",
       "      <td>1</td>\n",
       "      <td>800</td>\n",
       "      <td>677.2</td>\n",
       "      <td>6</td>\n",
       "      <td>1</td>\n",
       "    </tr>\n",
       "  </tbody>\n",
       "</table>\n",
       "</div>"
      ],
      "text/plain": [
       "   Merchant_id  Average Amount/transaction/day  Transaction_amount  \\\n",
       "0   3160040998                           100.0              3000.0   \n",
       "1   3160040998                           100.0              4300.0   \n",
       "2   3160041896                           185.5              4823.0   \n",
       "3   3160141996                           185.5              5008.5   \n",
       "4   3160241992                           500.0             26000.0   \n",
       "\n",
       "   Is declined  Total Number of declines/day  isForeignTransaction  \\\n",
       "0            0                             5                     1   \n",
       "1            0                             5                     1   \n",
       "2            1                             5                     0   \n",
       "3            1                             8                     0   \n",
       "4            0                             0                     1   \n",
       "\n",
       "   isHighRiskCountry  Daily_chargeback_avg_amt  6_month_avg_chbk_amt  \\\n",
       "0                  1                         0                   0.0   \n",
       "1                  1                         0                   0.0   \n",
       "2                  0                         0                   0.0   \n",
       "3                  0                         0                   0.0   \n",
       "4                  1                       800                 677.2   \n",
       "\n",
       "   6-month_chbk_freq  isFradulent  \n",
       "0                  0            1  \n",
       "1                  0            1  \n",
       "2                  0            1  \n",
       "3                  0            1  \n",
       "4                  6            1  "
      ]
     },
     "execution_count": 13,
     "metadata": {},
     "output_type": "execute_result"
    }
   ],
   "source": [
    "credit_card_data.head()"
   ]
  },
  {
   "cell_type": "markdown",
   "metadata": {},
   "source": [
    "### Correlation"
   ]
  },
  {
   "cell_type": "code",
   "execution_count": 14,
   "metadata": {},
   "outputs": [
    {
     "data": {
      "text/html": [
       "<style  type=\"text/css\" >\n",
       "    #T_8121b158_b509_11ea_81d7_98fa9b5629d8row0_col0 {\n",
       "            background-color:  #b40426;\n",
       "            color:  #f1f1f1;\n",
       "        }    #T_8121b158_b509_11ea_81d7_98fa9b5629d8row0_col1 {\n",
       "            background-color:  #4358cb;\n",
       "            color:  #f1f1f1;\n",
       "        }    #T_8121b158_b509_11ea_81d7_98fa9b5629d8row0_col2 {\n",
       "            background-color:  #3b4cc0;\n",
       "            color:  #f1f1f1;\n",
       "        }    #T_8121b158_b509_11ea_81d7_98fa9b5629d8row0_col3 {\n",
       "            background-color:  #5572df;\n",
       "            color:  #000000;\n",
       "        }    #T_8121b158_b509_11ea_81d7_98fa9b5629d8row0_col4 {\n",
       "            background-color:  #3b4cc0;\n",
       "            color:  #f1f1f1;\n",
       "        }    #T_8121b158_b509_11ea_81d7_98fa9b5629d8row0_col5 {\n",
       "            background-color:  #3b4cc0;\n",
       "            color:  #f1f1f1;\n",
       "        }    #T_8121b158_b509_11ea_81d7_98fa9b5629d8row0_col6 {\n",
       "            background-color:  #3e51c5;\n",
       "            color:  #f1f1f1;\n",
       "        }    #T_8121b158_b509_11ea_81d7_98fa9b5629d8row0_col7 {\n",
       "            background-color:  #455cce;\n",
       "            color:  #f1f1f1;\n",
       "        }    #T_8121b158_b509_11ea_81d7_98fa9b5629d8row0_col8 {\n",
       "            background-color:  #445acc;\n",
       "            color:  #f1f1f1;\n",
       "        }    #T_8121b158_b509_11ea_81d7_98fa9b5629d8row0_col9 {\n",
       "            background-color:  #4961d2;\n",
       "            color:  #f1f1f1;\n",
       "        }    #T_8121b158_b509_11ea_81d7_98fa9b5629d8row0_col10 {\n",
       "            background-color:  #4055c8;\n",
       "            color:  #f1f1f1;\n",
       "        }    #T_8121b158_b509_11ea_81d7_98fa9b5629d8row1_col0 {\n",
       "            background-color:  #445acc;\n",
       "            color:  #f1f1f1;\n",
       "        }    #T_8121b158_b509_11ea_81d7_98fa9b5629d8row1_col1 {\n",
       "            background-color:  #b40426;\n",
       "            color:  #f1f1f1;\n",
       "        }    #T_8121b158_b509_11ea_81d7_98fa9b5629d8row1_col2 {\n",
       "            background-color:  #edd2c3;\n",
       "            color:  #000000;\n",
       "        }    #T_8121b158_b509_11ea_81d7_98fa9b5629d8row1_col3 {\n",
       "            background-color:  #3b4cc0;\n",
       "            color:  #f1f1f1;\n",
       "        }    #T_8121b158_b509_11ea_81d7_98fa9b5629d8row1_col4 {\n",
       "            background-color:  #3c4ec2;\n",
       "            color:  #f1f1f1;\n",
       "        }    #T_8121b158_b509_11ea_81d7_98fa9b5629d8row1_col5 {\n",
       "            background-color:  #3f53c6;\n",
       "            color:  #f1f1f1;\n",
       "        }    #T_8121b158_b509_11ea_81d7_98fa9b5629d8row1_col6 {\n",
       "            background-color:  #3b4cc0;\n",
       "            color:  #f1f1f1;\n",
       "        }    #T_8121b158_b509_11ea_81d7_98fa9b5629d8row1_col7 {\n",
       "            background-color:  #3c4ec2;\n",
       "            color:  #f1f1f1;\n",
       "        }    #T_8121b158_b509_11ea_81d7_98fa9b5629d8row1_col8 {\n",
       "            background-color:  #3b4cc0;\n",
       "            color:  #f1f1f1;\n",
       "        }    #T_8121b158_b509_11ea_81d7_98fa9b5629d8row1_col9 {\n",
       "            background-color:  #3b4cc0;\n",
       "            color:  #f1f1f1;\n",
       "        }    #T_8121b158_b509_11ea_81d7_98fa9b5629d8row1_col10 {\n",
       "            background-color:  #3b4cc0;\n",
       "            color:  #f1f1f1;\n",
       "        }    #T_8121b158_b509_11ea_81d7_98fa9b5629d8row2_col0 {\n",
       "            background-color:  #4c66d6;\n",
       "            color:  #000000;\n",
       "        }    #T_8121b158_b509_11ea_81d7_98fa9b5629d8row2_col1 {\n",
       "            background-color:  #f1cdba;\n",
       "            color:  #000000;\n",
       "        }    #T_8121b158_b509_11ea_81d7_98fa9b5629d8row2_col2 {\n",
       "            background-color:  #b40426;\n",
       "            color:  #f1f1f1;\n",
       "        }    #T_8121b158_b509_11ea_81d7_98fa9b5629d8row2_col3 {\n",
       "            background-color:  #6282ea;\n",
       "            color:  #000000;\n",
       "        }    #T_8121b158_b509_11ea_81d7_98fa9b5629d8row2_col4 {\n",
       "            background-color:  #94b6ff;\n",
       "            color:  #000000;\n",
       "        }    #T_8121b158_b509_11ea_81d7_98fa9b5629d8row2_col5 {\n",
       "            background-color:  #8fb1fe;\n",
       "            color:  #000000;\n",
       "        }    #T_8121b158_b509_11ea_81d7_98fa9b5629d8row2_col6 {\n",
       "            background-color:  #a3c2fe;\n",
       "            color:  #000000;\n",
       "        }    #T_8121b158_b509_11ea_81d7_98fa9b5629d8row2_col7 {\n",
       "            background-color:  #7ea1fa;\n",
       "            color:  #000000;\n",
       "        }    #T_8121b158_b509_11ea_81d7_98fa9b5629d8row2_col8 {\n",
       "            background-color:  #80a3fa;\n",
       "            color:  #000000;\n",
       "        }    #T_8121b158_b509_11ea_81d7_98fa9b5629d8row2_col9 {\n",
       "            background-color:  #8badfd;\n",
       "            color:  #000000;\n",
       "        }    #T_8121b158_b509_11ea_81d7_98fa9b5629d8row2_col10 {\n",
       "            background-color:  #e1dad6;\n",
       "            color:  #000000;\n",
       "        }    #T_8121b158_b509_11ea_81d7_98fa9b5629d8row3_col0 {\n",
       "            background-color:  #7295f4;\n",
       "            color:  #000000;\n",
       "        }    #T_8121b158_b509_11ea_81d7_98fa9b5629d8row3_col1 {\n",
       "            background-color:  #5673e0;\n",
       "            color:  #000000;\n",
       "        }    #T_8121b158_b509_11ea_81d7_98fa9b5629d8row3_col2 {\n",
       "            background-color:  #6c8ff1;\n",
       "            color:  #000000;\n",
       "        }    #T_8121b158_b509_11ea_81d7_98fa9b5629d8row3_col3 {\n",
       "            background-color:  #b40426;\n",
       "            color:  #f1f1f1;\n",
       "        }    #T_8121b158_b509_11ea_81d7_98fa9b5629d8row3_col4 {\n",
       "            background-color:  #6384eb;\n",
       "            color:  #000000;\n",
       "        }    #T_8121b158_b509_11ea_81d7_98fa9b5629d8row3_col5 {\n",
       "            background-color:  #4a63d3;\n",
       "            color:  #f1f1f1;\n",
       "        }    #T_8121b158_b509_11ea_81d7_98fa9b5629d8row3_col6 {\n",
       "            background-color:  #5e7de7;\n",
       "            color:  #000000;\n",
       "        }    #T_8121b158_b509_11ea_81d7_98fa9b5629d8row3_col7 {\n",
       "            background-color:  #b2ccfb;\n",
       "            color:  #000000;\n",
       "        }    #T_8121b158_b509_11ea_81d7_98fa9b5629d8row3_col8 {\n",
       "            background-color:  #b6cefa;\n",
       "            color:  #000000;\n",
       "        }    #T_8121b158_b509_11ea_81d7_98fa9b5629d8row3_col9 {\n",
       "            background-color:  #d2dbe8;\n",
       "            color:  #000000;\n",
       "        }    #T_8121b158_b509_11ea_81d7_98fa9b5629d8row3_col10 {\n",
       "            background-color:  #8db0fe;\n",
       "            color:  #000000;\n",
       "        }    #T_8121b158_b509_11ea_81d7_98fa9b5629d8row4_col0 {\n",
       "            background-color:  #3b4cc0;\n",
       "            color:  #f1f1f1;\n",
       "        }    #T_8121b158_b509_11ea_81d7_98fa9b5629d8row4_col1 {\n",
       "            background-color:  #3b4cc0;\n",
       "            color:  #f1f1f1;\n",
       "        }    #T_8121b158_b509_11ea_81d7_98fa9b5629d8row4_col2 {\n",
       "            background-color:  #84a7fc;\n",
       "            color:  #000000;\n",
       "        }    #T_8121b158_b509_11ea_81d7_98fa9b5629d8row4_col3 {\n",
       "            background-color:  #465ecf;\n",
       "            color:  #f1f1f1;\n",
       "        }    #T_8121b158_b509_11ea_81d7_98fa9b5629d8row4_col4 {\n",
       "            background-color:  #b40426;\n",
       "            color:  #f1f1f1;\n",
       "        }    #T_8121b158_b509_11ea_81d7_98fa9b5629d8row4_col5 {\n",
       "            background-color:  #7da0f9;\n",
       "            color:  #000000;\n",
       "        }    #T_8121b158_b509_11ea_81d7_98fa9b5629d8row4_col6 {\n",
       "            background-color:  #98b9ff;\n",
       "            color:  #000000;\n",
       "        }    #T_8121b158_b509_11ea_81d7_98fa9b5629d8row4_col7 {\n",
       "            background-color:  #465ecf;\n",
       "            color:  #f1f1f1;\n",
       "        }    #T_8121b158_b509_11ea_81d7_98fa9b5629d8row4_col8 {\n",
       "            background-color:  #4055c8;\n",
       "            color:  #f1f1f1;\n",
       "        }    #T_8121b158_b509_11ea_81d7_98fa9b5629d8row4_col9 {\n",
       "            background-color:  #3e51c5;\n",
       "            color:  #f1f1f1;\n",
       "        }    #T_8121b158_b509_11ea_81d7_98fa9b5629d8row4_col10 {\n",
       "            background-color:  #e2dad5;\n",
       "            color:  #000000;\n",
       "        }    #T_8121b158_b509_11ea_81d7_98fa9b5629d8row5_col0 {\n",
       "            background-color:  #485fd1;\n",
       "            color:  #f1f1f1;\n",
       "        }    #T_8121b158_b509_11ea_81d7_98fa9b5629d8row5_col1 {\n",
       "            background-color:  #4b64d5;\n",
       "            color:  #f1f1f1;\n",
       "        }    #T_8121b158_b509_11ea_81d7_98fa9b5629d8row5_col2 {\n",
       "            background-color:  #89acfd;\n",
       "            color:  #000000;\n",
       "        }    #T_8121b158_b509_11ea_81d7_98fa9b5629d8row5_col3 {\n",
       "            background-color:  #3b4cc0;\n",
       "            color:  #f1f1f1;\n",
       "        }    #T_8121b158_b509_11ea_81d7_98fa9b5629d8row5_col4 {\n",
       "            background-color:  #89acfd;\n",
       "            color:  #000000;\n",
       "        }    #T_8121b158_b509_11ea_81d7_98fa9b5629d8row5_col5 {\n",
       "            background-color:  #b40426;\n",
       "            color:  #f1f1f1;\n",
       "        }    #T_8121b158_b509_11ea_81d7_98fa9b5629d8row5_col6 {\n",
       "            background-color:  #d8dce2;\n",
       "            color:  #000000;\n",
       "        }    #T_8121b158_b509_11ea_81d7_98fa9b5629d8row5_col7 {\n",
       "            background-color:  #3b4cc0;\n",
       "            color:  #f1f1f1;\n",
       "        }    #T_8121b158_b509_11ea_81d7_98fa9b5629d8row5_col8 {\n",
       "            background-color:  #3b4cc0;\n",
       "            color:  #f1f1f1;\n",
       "        }    #T_8121b158_b509_11ea_81d7_98fa9b5629d8row5_col9 {\n",
       "            background-color:  #3c4ec2;\n",
       "            color:  #f1f1f1;\n",
       "        }    #T_8121b158_b509_11ea_81d7_98fa9b5629d8row5_col10 {\n",
       "            background-color:  #d4dbe6;\n",
       "            color:  #000000;\n",
       "        }    #T_8121b158_b509_11ea_81d7_98fa9b5629d8row6_col0 {\n",
       "            background-color:  #485fd1;\n",
       "            color:  #f1f1f1;\n",
       "        }    #T_8121b158_b509_11ea_81d7_98fa9b5629d8row6_col1 {\n",
       "            background-color:  #4257c9;\n",
       "            color:  #f1f1f1;\n",
       "        }    #T_8121b158_b509_11ea_81d7_98fa9b5629d8row6_col2 {\n",
       "            background-color:  #9bbcff;\n",
       "            color:  #000000;\n",
       "        }    #T_8121b158_b509_11ea_81d7_98fa9b5629d8row6_col3 {\n",
       "            background-color:  #4a63d3;\n",
       "            color:  #f1f1f1;\n",
       "        }    #T_8121b158_b509_11ea_81d7_98fa9b5629d8row6_col4 {\n",
       "            background-color:  #9fbfff;\n",
       "            color:  #000000;\n",
       "        }    #T_8121b158_b509_11ea_81d7_98fa9b5629d8row6_col5 {\n",
       "            background-color:  #d6dce4;\n",
       "            color:  #000000;\n",
       "        }    #T_8121b158_b509_11ea_81d7_98fa9b5629d8row6_col6 {\n",
       "            background-color:  #b40426;\n",
       "            color:  #f1f1f1;\n",
       "        }    #T_8121b158_b509_11ea_81d7_98fa9b5629d8row6_col7 {\n",
       "            background-color:  #4055c8;\n",
       "            color:  #f1f1f1;\n",
       "        }    #T_8121b158_b509_11ea_81d7_98fa9b5629d8row6_col8 {\n",
       "            background-color:  #3e51c5;\n",
       "            color:  #f1f1f1;\n",
       "        }    #T_8121b158_b509_11ea_81d7_98fa9b5629d8row6_col9 {\n",
       "            background-color:  #4358cb;\n",
       "            color:  #f1f1f1;\n",
       "        }    #T_8121b158_b509_11ea_81d7_98fa9b5629d8row6_col10 {\n",
       "            background-color:  #f5c2aa;\n",
       "            color:  #000000;\n",
       "        }    #T_8121b158_b509_11ea_81d7_98fa9b5629d8row7_col0 {\n",
       "            background-color:  #5a78e4;\n",
       "            color:  #000000;\n",
       "        }    #T_8121b158_b509_11ea_81d7_98fa9b5629d8row7_col1 {\n",
       "            background-color:  #4f69d9;\n",
       "            color:  #000000;\n",
       "        }    #T_8121b158_b509_11ea_81d7_98fa9b5629d8row7_col2 {\n",
       "            background-color:  #81a4fb;\n",
       "            color:  #000000;\n",
       "        }    #T_8121b158_b509_11ea_81d7_98fa9b5629d8row7_col3 {\n",
       "            background-color:  #adc9fd;\n",
       "            color:  #000000;\n",
       "        }    #T_8121b158_b509_11ea_81d7_98fa9b5629d8row7_col4 {\n",
       "            background-color:  #5b7ae5;\n",
       "            color:  #000000;\n",
       "        }    #T_8121b158_b509_11ea_81d7_98fa9b5629d8row7_col5 {\n",
       "            background-color:  #4257c9;\n",
       "            color:  #f1f1f1;\n",
       "        }    #T_8121b158_b509_11ea_81d7_98fa9b5629d8row7_col6 {\n",
       "            background-color:  #4c66d6;\n",
       "            color:  #000000;\n",
       "        }    #T_8121b158_b509_11ea_81d7_98fa9b5629d8row7_col7 {\n",
       "            background-color:  #b40426;\n",
       "            color:  #f1f1f1;\n",
       "        }    #T_8121b158_b509_11ea_81d7_98fa9b5629d8row7_col8 {\n",
       "            background-color:  #c53334;\n",
       "            color:  #f1f1f1;\n",
       "        }    #T_8121b158_b509_11ea_81d7_98fa9b5629d8row7_col9 {\n",
       "            background-color:  #dd5f4b;\n",
       "            color:  #000000;\n",
       "        }    #T_8121b158_b509_11ea_81d7_98fa9b5629d8row7_col10 {\n",
       "            background-color:  #b7cff9;\n",
       "            color:  #000000;\n",
       "        }    #T_8121b158_b509_11ea_81d7_98fa9b5629d8row8_col0 {\n",
       "            background-color:  #5b7ae5;\n",
       "            color:  #000000;\n",
       "        }    #T_8121b158_b509_11ea_81d7_98fa9b5629d8row8_col1 {\n",
       "            background-color:  #4f69d9;\n",
       "            color:  #000000;\n",
       "        }    #T_8121b158_b509_11ea_81d7_98fa9b5629d8row8_col2 {\n",
       "            background-color:  #84a7fc;\n",
       "            color:  #000000;\n",
       "        }    #T_8121b158_b509_11ea_81d7_98fa9b5629d8row8_col3 {\n",
       "            background-color:  #b2ccfb;\n",
       "            color:  #000000;\n",
       "        }    #T_8121b158_b509_11ea_81d7_98fa9b5629d8row8_col4 {\n",
       "            background-color:  #5875e1;\n",
       "            color:  #000000;\n",
       "        }    #T_8121b158_b509_11ea_81d7_98fa9b5629d8row8_col5 {\n",
       "            background-color:  #4358cb;\n",
       "            color:  #f1f1f1;\n",
       "        }    #T_8121b158_b509_11ea_81d7_98fa9b5629d8row8_col6 {\n",
       "            background-color:  #4c66d6;\n",
       "            color:  #000000;\n",
       "        }    #T_8121b158_b509_11ea_81d7_98fa9b5629d8row8_col7 {\n",
       "            background-color:  #c53334;\n",
       "            color:  #f1f1f1;\n",
       "        }    #T_8121b158_b509_11ea_81d7_98fa9b5629d8row8_col8 {\n",
       "            background-color:  #b40426;\n",
       "            color:  #f1f1f1;\n",
       "        }    #T_8121b158_b509_11ea_81d7_98fa9b5629d8row8_col9 {\n",
       "            background-color:  #e67259;\n",
       "            color:  #000000;\n",
       "        }    #T_8121b158_b509_11ea_81d7_98fa9b5629d8row8_col10 {\n",
       "            background-color:  #b3cdfb;\n",
       "            color:  #000000;\n",
       "        }    #T_8121b158_b509_11ea_81d7_98fa9b5629d8row9_col0 {\n",
       "            background-color:  #6384eb;\n",
       "            color:  #000000;\n",
       "        }    #T_8121b158_b509_11ea_81d7_98fa9b5629d8row9_col1 {\n",
       "            background-color:  #536edd;\n",
       "            color:  #000000;\n",
       "        }    #T_8121b158_b509_11ea_81d7_98fa9b5629d8row9_col2 {\n",
       "            background-color:  #92b4fe;\n",
       "            color:  #000000;\n",
       "        }    #T_8121b158_b509_11ea_81d7_98fa9b5629d8row9_col3 {\n",
       "            background-color:  #d1dae9;\n",
       "            color:  #000000;\n",
       "        }    #T_8121b158_b509_11ea_81d7_98fa9b5629d8row9_col4 {\n",
       "            background-color:  #5977e3;\n",
       "            color:  #000000;\n",
       "        }    #T_8121b158_b509_11ea_81d7_98fa9b5629d8row9_col5 {\n",
       "            background-color:  #4961d2;\n",
       "            color:  #f1f1f1;\n",
       "        }    #T_8121b158_b509_11ea_81d7_98fa9b5629d8row9_col6 {\n",
       "            background-color:  #5470de;\n",
       "            color:  #000000;\n",
       "        }    #T_8121b158_b509_11ea_81d7_98fa9b5629d8row9_col7 {\n",
       "            background-color:  #dd5f4b;\n",
       "            color:  #000000;\n",
       "        }    #T_8121b158_b509_11ea_81d7_98fa9b5629d8row9_col8 {\n",
       "            background-color:  #e57058;\n",
       "            color:  #000000;\n",
       "        }    #T_8121b158_b509_11ea_81d7_98fa9b5629d8row9_col9 {\n",
       "            background-color:  #b40426;\n",
       "            color:  #f1f1f1;\n",
       "        }    #T_8121b158_b509_11ea_81d7_98fa9b5629d8row9_col10 {\n",
       "            background-color:  #cad8ef;\n",
       "            color:  #000000;\n",
       "        }    #T_8121b158_b509_11ea_81d7_98fa9b5629d8row10_col0 {\n",
       "            background-color:  #4b64d5;\n",
       "            color:  #f1f1f1;\n",
       "        }    #T_8121b158_b509_11ea_81d7_98fa9b5629d8row10_col1 {\n",
       "            background-color:  #445acc;\n",
       "            color:  #f1f1f1;\n",
       "        }    #T_8121b158_b509_11ea_81d7_98fa9b5629d8row10_col2 {\n",
       "            background-color:  #dedcdb;\n",
       "            color:  #000000;\n",
       "        }    #T_8121b158_b509_11ea_81d7_98fa9b5629d8row10_col3 {\n",
       "            background-color:  #7ea1fa;\n",
       "            color:  #000000;\n",
       "        }    #T_8121b158_b509_11ea_81d7_98fa9b5629d8row10_col4 {\n",
       "            background-color:  #e7d7ce;\n",
       "            color:  #000000;\n",
       "        }    #T_8121b158_b509_11ea_81d7_98fa9b5629d8row10_col5 {\n",
       "            background-color:  #d3dbe7;\n",
       "            color:  #000000;\n",
       "        }    #T_8121b158_b509_11ea_81d7_98fa9b5629d8row10_col6 {\n",
       "            background-color:  #f5c1a9;\n",
       "            color:  #000000;\n",
       "        }    #T_8121b158_b509_11ea_81d7_98fa9b5629d8row10_col7 {\n",
       "            background-color:  #afcafc;\n",
       "            color:  #000000;\n",
       "        }    #T_8121b158_b509_11ea_81d7_98fa9b5629d8row10_col8 {\n",
       "            background-color:  #aac7fd;\n",
       "            color:  #000000;\n",
       "        }    #T_8121b158_b509_11ea_81d7_98fa9b5629d8row10_col9 {\n",
       "            background-color:  #c0d4f5;\n",
       "            color:  #000000;\n",
       "        }    #T_8121b158_b509_11ea_81d7_98fa9b5629d8row10_col10 {\n",
       "            background-color:  #b40426;\n",
       "            color:  #f1f1f1;\n",
       "        }</style><table id=\"T_8121b158_b509_11ea_81d7_98fa9b5629d8\" ><thead>    <tr>        <th class=\"blank level0\" ></th>        <th class=\"col_heading level0 col0\" >Merchant_id</th>        <th class=\"col_heading level0 col1\" >Average Amount/transaction/day</th>        <th class=\"col_heading level0 col2\" >Transaction_amount</th>        <th class=\"col_heading level0 col3\" >Is declined</th>        <th class=\"col_heading level0 col4\" >Total Number of declines/day</th>        <th class=\"col_heading level0 col5\" >isForeignTransaction</th>        <th class=\"col_heading level0 col6\" >isHighRiskCountry</th>        <th class=\"col_heading level0 col7\" >Daily_chargeback_avg_amt</th>        <th class=\"col_heading level0 col8\" >6_month_avg_chbk_amt</th>        <th class=\"col_heading level0 col9\" >6-month_chbk_freq</th>        <th class=\"col_heading level0 col10\" >isFradulent</th>    </tr></thead><tbody>\n",
       "                <tr>\n",
       "                        <th id=\"T_8121b158_b509_11ea_81d7_98fa9b5629d8level0_row0\" class=\"row_heading level0 row0\" >Merchant_id</th>\n",
       "                        <td id=\"T_8121b158_b509_11ea_81d7_98fa9b5629d8row0_col0\" class=\"data row0 col0\" >1.00</td>\n",
       "                        <td id=\"T_8121b158_b509_11ea_81d7_98fa9b5629d8row0_col1\" class=\"data row0 col1\" >0.02</td>\n",
       "                        <td id=\"T_8121b158_b509_11ea_81d7_98fa9b5629d8row0_col2\" class=\"data row0 col2\" >0.05</td>\n",
       "                        <td id=\"T_8121b158_b509_11ea_81d7_98fa9b5629d8row0_col3\" class=\"data row0 col3\" >0.16</td>\n",
       "                        <td id=\"T_8121b158_b509_11ea_81d7_98fa9b5629d8row0_col4\" class=\"data row0 col4\" >-0.02</td>\n",
       "                        <td id=\"T_8121b158_b509_11ea_81d7_98fa9b5629d8row0_col5\" class=\"data row0 col5\" >0.03</td>\n",
       "                        <td id=\"T_8121b158_b509_11ea_81d7_98fa9b5629d8row0_col6\" class=\"data row0 col6\" >0.03</td>\n",
       "                        <td id=\"T_8121b158_b509_11ea_81d7_98fa9b5629d8row0_col7\" class=\"data row0 col7\" >0.09</td>\n",
       "                        <td id=\"T_8121b158_b509_11ea_81d7_98fa9b5629d8row0_col8\" class=\"data row0 col8\" >0.09</td>\n",
       "                        <td id=\"T_8121b158_b509_11ea_81d7_98fa9b5629d8row0_col9\" class=\"data row0 col9\" >0.12</td>\n",
       "                        <td id=\"T_8121b158_b509_11ea_81d7_98fa9b5629d8row0_col10\" class=\"data row0 col10\" >0.04</td>\n",
       "            </tr>\n",
       "            <tr>\n",
       "                        <th id=\"T_8121b158_b509_11ea_81d7_98fa9b5629d8level0_row1\" class=\"row_heading level0 row1\" >Average Amount/transaction/day</th>\n",
       "                        <td id=\"T_8121b158_b509_11ea_81d7_98fa9b5629d8row1_col0\" class=\"data row1 col0\" >0.02</td>\n",
       "                        <td id=\"T_8121b158_b509_11ea_81d7_98fa9b5629d8row1_col1\" class=\"data row1 col1\" >1.00</td>\n",
       "                        <td id=\"T_8121b158_b509_11ea_81d7_98fa9b5629d8row1_col2\" class=\"data row1 col2\" >0.59</td>\n",
       "                        <td id=\"T_8121b158_b509_11ea_81d7_98fa9b5629d8row1_col3\" class=\"data row1 col3\" >0.08</td>\n",
       "                        <td id=\"T_8121b158_b509_11ea_81d7_98fa9b5629d8row1_col4\" class=\"data row1 col4\" >-0.01</td>\n",
       "                        <td id=\"T_8121b158_b509_11ea_81d7_98fa9b5629d8row1_col5\" class=\"data row1 col5\" >0.05</td>\n",
       "                        <td id=\"T_8121b158_b509_11ea_81d7_98fa9b5629d8row1_col6\" class=\"data row1 col6\" >0.01</td>\n",
       "                        <td id=\"T_8121b158_b509_11ea_81d7_98fa9b5629d8row1_col7\" class=\"data row1 col7\" >0.06</td>\n",
       "                        <td id=\"T_8121b158_b509_11ea_81d7_98fa9b5629d8row1_col8\" class=\"data row1 col8\" >0.06</td>\n",
       "                        <td id=\"T_8121b158_b509_11ea_81d7_98fa9b5629d8row1_col9\" class=\"data row1 col9\" >0.07</td>\n",
       "                        <td id=\"T_8121b158_b509_11ea_81d7_98fa9b5629d8row1_col10\" class=\"data row1 col10\" >0.02</td>\n",
       "            </tr>\n",
       "            <tr>\n",
       "                        <th id=\"T_8121b158_b509_11ea_81d7_98fa9b5629d8level0_row2\" class=\"row_heading level0 row2\" >Transaction_amount</th>\n",
       "                        <td id=\"T_8121b158_b509_11ea_81d7_98fa9b5629d8row2_col0\" class=\"data row2 col0\" >0.05</td>\n",
       "                        <td id=\"T_8121b158_b509_11ea_81d7_98fa9b5629d8row2_col1\" class=\"data row2 col1\" >0.59</td>\n",
       "                        <td id=\"T_8121b158_b509_11ea_81d7_98fa9b5629d8row2_col2\" class=\"data row2 col2\" >1.00</td>\n",
       "                        <td id=\"T_8121b158_b509_11ea_81d7_98fa9b5629d8row2_col3\" class=\"data row2 col3\" >0.20</td>\n",
       "                        <td id=\"T_8121b158_b509_11ea_81d7_98fa9b5629d8row2_col4\" class=\"data row2 col4\" >0.26</td>\n",
       "                        <td id=\"T_8121b158_b509_11ea_81d7_98fa9b5629d8row2_col5\" class=\"data row2 col5\" >0.28</td>\n",
       "                        <td id=\"T_8121b158_b509_11ea_81d7_98fa9b5629d8row2_col6\" class=\"data row2 col6\" >0.33</td>\n",
       "                        <td id=\"T_8121b158_b509_11ea_81d7_98fa9b5629d8row2_col7\" class=\"data row2 col7\" >0.25</td>\n",
       "                        <td id=\"T_8121b158_b509_11ea_81d7_98fa9b5629d8row2_col8\" class=\"data row2 col8\" >0.26</td>\n",
       "                        <td id=\"T_8121b158_b509_11ea_81d7_98fa9b5629d8row2_col9\" class=\"data row2 col9\" >0.30</td>\n",
       "                        <td id=\"T_8121b158_b509_11ea_81d7_98fa9b5629d8row2_col10\" class=\"data row2 col10\" >0.53</td>\n",
       "            </tr>\n",
       "            <tr>\n",
       "                        <th id=\"T_8121b158_b509_11ea_81d7_98fa9b5629d8level0_row3\" class=\"row_heading level0 row3\" >Is declined</th>\n",
       "                        <td id=\"T_8121b158_b509_11ea_81d7_98fa9b5629d8row3_col0\" class=\"data row3 col0\" >0.16</td>\n",
       "                        <td id=\"T_8121b158_b509_11ea_81d7_98fa9b5629d8row3_col1\" class=\"data row3 col1\" >0.08</td>\n",
       "                        <td id=\"T_8121b158_b509_11ea_81d7_98fa9b5629d8row3_col2\" class=\"data row3 col2\" >0.20</td>\n",
       "                        <td id=\"T_8121b158_b509_11ea_81d7_98fa9b5629d8row3_col3\" class=\"data row3 col3\" >1.00</td>\n",
       "                        <td id=\"T_8121b158_b509_11ea_81d7_98fa9b5629d8row3_col4\" class=\"data row3 col4\" >0.12</td>\n",
       "                        <td id=\"T_8121b158_b509_11ea_81d7_98fa9b5629d8row3_col5\" class=\"data row3 col5\" >0.08</td>\n",
       "                        <td id=\"T_8121b158_b509_11ea_81d7_98fa9b5629d8row3_col6\" class=\"data row3 col6\" >0.13</td>\n",
       "                        <td id=\"T_8121b158_b509_11ea_81d7_98fa9b5629d8row3_col7\" class=\"data row3 col7\" >0.39</td>\n",
       "                        <td id=\"T_8121b158_b509_11ea_81d7_98fa9b5629d8row3_col8\" class=\"data row3 col8\" >0.41</td>\n",
       "                        <td id=\"T_8121b158_b509_11ea_81d7_98fa9b5629d8row3_col9\" class=\"data row3 col9\" >0.50</td>\n",
       "                        <td id=\"T_8121b158_b509_11ea_81d7_98fa9b5629d8row3_col10\" class=\"data row3 col10\" >0.27</td>\n",
       "            </tr>\n",
       "            <tr>\n",
       "                        <th id=\"T_8121b158_b509_11ea_81d7_98fa9b5629d8level0_row4\" class=\"row_heading level0 row4\" >Total Number of declines/day</th>\n",
       "                        <td id=\"T_8121b158_b509_11ea_81d7_98fa9b5629d8row4_col0\" class=\"data row4 col0\" >-0.02</td>\n",
       "                        <td id=\"T_8121b158_b509_11ea_81d7_98fa9b5629d8row4_col1\" class=\"data row4 col1\" >-0.01</td>\n",
       "                        <td id=\"T_8121b158_b509_11ea_81d7_98fa9b5629d8row4_col2\" class=\"data row4 col2\" >0.26</td>\n",
       "                        <td id=\"T_8121b158_b509_11ea_81d7_98fa9b5629d8row4_col3\" class=\"data row4 col3\" >0.12</td>\n",
       "                        <td id=\"T_8121b158_b509_11ea_81d7_98fa9b5629d8row4_col4\" class=\"data row4 col4\" >1.00</td>\n",
       "                        <td id=\"T_8121b158_b509_11ea_81d7_98fa9b5629d8row4_col5\" class=\"data row4 col5\" >0.23</td>\n",
       "                        <td id=\"T_8121b158_b509_11ea_81d7_98fa9b5629d8row4_col6\" class=\"data row4 col6\" >0.29</td>\n",
       "                        <td id=\"T_8121b158_b509_11ea_81d7_98fa9b5629d8row4_col7\" class=\"data row4 col7\" >0.09</td>\n",
       "                        <td id=\"T_8121b158_b509_11ea_81d7_98fa9b5629d8row4_col8\" class=\"data row4 col8\" >0.08</td>\n",
       "                        <td id=\"T_8121b158_b509_11ea_81d7_98fa9b5629d8row4_col9\" class=\"data row4 col9\" >0.09</td>\n",
       "                        <td id=\"T_8121b158_b509_11ea_81d7_98fa9b5629d8row4_col10\" class=\"data row4 col10\" >0.53</td>\n",
       "            </tr>\n",
       "            <tr>\n",
       "                        <th id=\"T_8121b158_b509_11ea_81d7_98fa9b5629d8level0_row5\" class=\"row_heading level0 row5\" >isForeignTransaction</th>\n",
       "                        <td id=\"T_8121b158_b509_11ea_81d7_98fa9b5629d8row5_col0\" class=\"data row5 col0\" >0.03</td>\n",
       "                        <td id=\"T_8121b158_b509_11ea_81d7_98fa9b5629d8row5_col1\" class=\"data row5 col1\" >0.05</td>\n",
       "                        <td id=\"T_8121b158_b509_11ea_81d7_98fa9b5629d8row5_col2\" class=\"data row5 col2\" >0.28</td>\n",
       "                        <td id=\"T_8121b158_b509_11ea_81d7_98fa9b5629d8row5_col3\" class=\"data row5 col3\" >0.08</td>\n",
       "                        <td id=\"T_8121b158_b509_11ea_81d7_98fa9b5629d8row5_col4\" class=\"data row5 col4\" >0.23</td>\n",
       "                        <td id=\"T_8121b158_b509_11ea_81d7_98fa9b5629d8row5_col5\" class=\"data row5 col5\" >1.00</td>\n",
       "                        <td id=\"T_8121b158_b509_11ea_81d7_98fa9b5629d8row5_col6\" class=\"data row5 col6\" >0.49</td>\n",
       "                        <td id=\"T_8121b158_b509_11ea_81d7_98fa9b5629d8row5_col7\" class=\"data row5 col7\" >0.05</td>\n",
       "                        <td id=\"T_8121b158_b509_11ea_81d7_98fa9b5629d8row5_col8\" class=\"data row5 col8\" >0.06</td>\n",
       "                        <td id=\"T_8121b158_b509_11ea_81d7_98fa9b5629d8row5_col9\" class=\"data row5 col9\" >0.08</td>\n",
       "                        <td id=\"T_8121b158_b509_11ea_81d7_98fa9b5629d8row5_col10\" class=\"data row5 col10\" >0.48</td>\n",
       "            </tr>\n",
       "            <tr>\n",
       "                        <th id=\"T_8121b158_b509_11ea_81d7_98fa9b5629d8level0_row6\" class=\"row_heading level0 row6\" >isHighRiskCountry</th>\n",
       "                        <td id=\"T_8121b158_b509_11ea_81d7_98fa9b5629d8row6_col0\" class=\"data row6 col0\" >0.03</td>\n",
       "                        <td id=\"T_8121b158_b509_11ea_81d7_98fa9b5629d8row6_col1\" class=\"data row6 col1\" >0.01</td>\n",
       "                        <td id=\"T_8121b158_b509_11ea_81d7_98fa9b5629d8row6_col2\" class=\"data row6 col2\" >0.33</td>\n",
       "                        <td id=\"T_8121b158_b509_11ea_81d7_98fa9b5629d8row6_col3\" class=\"data row6 col3\" >0.13</td>\n",
       "                        <td id=\"T_8121b158_b509_11ea_81d7_98fa9b5629d8row6_col4\" class=\"data row6 col4\" >0.29</td>\n",
       "                        <td id=\"T_8121b158_b509_11ea_81d7_98fa9b5629d8row6_col5\" class=\"data row6 col5\" >0.49</td>\n",
       "                        <td id=\"T_8121b158_b509_11ea_81d7_98fa9b5629d8row6_col6\" class=\"data row6 col6\" >1.00</td>\n",
       "                        <td id=\"T_8121b158_b509_11ea_81d7_98fa9b5629d8row6_col7\" class=\"data row6 col7\" >0.07</td>\n",
       "                        <td id=\"T_8121b158_b509_11ea_81d7_98fa9b5629d8row6_col8\" class=\"data row6 col8\" >0.07</td>\n",
       "                        <td id=\"T_8121b158_b509_11ea_81d7_98fa9b5629d8row6_col9\" class=\"data row6 col9\" >0.10</td>\n",
       "                        <td id=\"T_8121b158_b509_11ea_81d7_98fa9b5629d8row6_col10\" class=\"data row6 col10\" >0.64</td>\n",
       "            </tr>\n",
       "            <tr>\n",
       "                        <th id=\"T_8121b158_b509_11ea_81d7_98fa9b5629d8level0_row7\" class=\"row_heading level0 row7\" >Daily_chargeback_avg_amt</th>\n",
       "                        <td id=\"T_8121b158_b509_11ea_81d7_98fa9b5629d8row7_col0\" class=\"data row7 col0\" >0.09</td>\n",
       "                        <td id=\"T_8121b158_b509_11ea_81d7_98fa9b5629d8row7_col1\" class=\"data row7 col1\" >0.06</td>\n",
       "                        <td id=\"T_8121b158_b509_11ea_81d7_98fa9b5629d8row7_col2\" class=\"data row7 col2\" >0.25</td>\n",
       "                        <td id=\"T_8121b158_b509_11ea_81d7_98fa9b5629d8row7_col3\" class=\"data row7 col3\" >0.39</td>\n",
       "                        <td id=\"T_8121b158_b509_11ea_81d7_98fa9b5629d8row7_col4\" class=\"data row7 col4\" >0.09</td>\n",
       "                        <td id=\"T_8121b158_b509_11ea_81d7_98fa9b5629d8row7_col5\" class=\"data row7 col5\" >0.05</td>\n",
       "                        <td id=\"T_8121b158_b509_11ea_81d7_98fa9b5629d8row7_col6\" class=\"data row7 col6\" >0.07</td>\n",
       "                        <td id=\"T_8121b158_b509_11ea_81d7_98fa9b5629d8row7_col7\" class=\"data row7 col7\" >1.00</td>\n",
       "                        <td id=\"T_8121b158_b509_11ea_81d7_98fa9b5629d8row7_col8\" class=\"data row7 col8\" >0.95</td>\n",
       "                        <td id=\"T_8121b158_b509_11ea_81d7_98fa9b5629d8row7_col9\" class=\"data row7 col9\" >0.88</td>\n",
       "                        <td id=\"T_8121b158_b509_11ea_81d7_98fa9b5629d8row7_col10\" class=\"data row7 col10\" >0.39</td>\n",
       "            </tr>\n",
       "            <tr>\n",
       "                        <th id=\"T_8121b158_b509_11ea_81d7_98fa9b5629d8level0_row8\" class=\"row_heading level0 row8\" >6_month_avg_chbk_amt</th>\n",
       "                        <td id=\"T_8121b158_b509_11ea_81d7_98fa9b5629d8row8_col0\" class=\"data row8 col0\" >0.09</td>\n",
       "                        <td id=\"T_8121b158_b509_11ea_81d7_98fa9b5629d8row8_col1\" class=\"data row8 col1\" >0.06</td>\n",
       "                        <td id=\"T_8121b158_b509_11ea_81d7_98fa9b5629d8row8_col2\" class=\"data row8 col2\" >0.26</td>\n",
       "                        <td id=\"T_8121b158_b509_11ea_81d7_98fa9b5629d8row8_col3\" class=\"data row8 col3\" >0.41</td>\n",
       "                        <td id=\"T_8121b158_b509_11ea_81d7_98fa9b5629d8row8_col4\" class=\"data row8 col4\" >0.08</td>\n",
       "                        <td id=\"T_8121b158_b509_11ea_81d7_98fa9b5629d8row8_col5\" class=\"data row8 col5\" >0.06</td>\n",
       "                        <td id=\"T_8121b158_b509_11ea_81d7_98fa9b5629d8row8_col6\" class=\"data row8 col6\" >0.07</td>\n",
       "                        <td id=\"T_8121b158_b509_11ea_81d7_98fa9b5629d8row8_col7\" class=\"data row8 col7\" >0.95</td>\n",
       "                        <td id=\"T_8121b158_b509_11ea_81d7_98fa9b5629d8row8_col8\" class=\"data row8 col8\" >1.00</td>\n",
       "                        <td id=\"T_8121b158_b509_11ea_81d7_98fa9b5629d8row8_col9\" class=\"data row8 col9\" >0.85</td>\n",
       "                        <td id=\"T_8121b158_b509_11ea_81d7_98fa9b5629d8row8_col10\" class=\"data row8 col10\" >0.38</td>\n",
       "            </tr>\n",
       "            <tr>\n",
       "                        <th id=\"T_8121b158_b509_11ea_81d7_98fa9b5629d8level0_row9\" class=\"row_heading level0 row9\" >6-month_chbk_freq</th>\n",
       "                        <td id=\"T_8121b158_b509_11ea_81d7_98fa9b5629d8row9_col0\" class=\"data row9 col0\" >0.12</td>\n",
       "                        <td id=\"T_8121b158_b509_11ea_81d7_98fa9b5629d8row9_col1\" class=\"data row9 col1\" >0.07</td>\n",
       "                        <td id=\"T_8121b158_b509_11ea_81d7_98fa9b5629d8row9_col2\" class=\"data row9 col2\" >0.30</td>\n",
       "                        <td id=\"T_8121b158_b509_11ea_81d7_98fa9b5629d8row9_col3\" class=\"data row9 col3\" >0.50</td>\n",
       "                        <td id=\"T_8121b158_b509_11ea_81d7_98fa9b5629d8row9_col4\" class=\"data row9 col4\" >0.09</td>\n",
       "                        <td id=\"T_8121b158_b509_11ea_81d7_98fa9b5629d8row9_col5\" class=\"data row9 col5\" >0.08</td>\n",
       "                        <td id=\"T_8121b158_b509_11ea_81d7_98fa9b5629d8row9_col6\" class=\"data row9 col6\" >0.10</td>\n",
       "                        <td id=\"T_8121b158_b509_11ea_81d7_98fa9b5629d8row9_col7\" class=\"data row9 col7\" >0.88</td>\n",
       "                        <td id=\"T_8121b158_b509_11ea_81d7_98fa9b5629d8row9_col8\" class=\"data row9 col8\" >0.85</td>\n",
       "                        <td id=\"T_8121b158_b509_11ea_81d7_98fa9b5629d8row9_col9\" class=\"data row9 col9\" >1.00</td>\n",
       "                        <td id=\"T_8121b158_b509_11ea_81d7_98fa9b5629d8row9_col10\" class=\"data row9 col10\" >0.44</td>\n",
       "            </tr>\n",
       "            <tr>\n",
       "                        <th id=\"T_8121b158_b509_11ea_81d7_98fa9b5629d8level0_row10\" class=\"row_heading level0 row10\" >isFradulent</th>\n",
       "                        <td id=\"T_8121b158_b509_11ea_81d7_98fa9b5629d8row10_col0\" class=\"data row10 col0\" >0.04</td>\n",
       "                        <td id=\"T_8121b158_b509_11ea_81d7_98fa9b5629d8row10_col1\" class=\"data row10 col1\" >0.02</td>\n",
       "                        <td id=\"T_8121b158_b509_11ea_81d7_98fa9b5629d8row10_col2\" class=\"data row10 col2\" >0.53</td>\n",
       "                        <td id=\"T_8121b158_b509_11ea_81d7_98fa9b5629d8row10_col3\" class=\"data row10 col3\" >0.27</td>\n",
       "                        <td id=\"T_8121b158_b509_11ea_81d7_98fa9b5629d8row10_col4\" class=\"data row10 col4\" >0.53</td>\n",
       "                        <td id=\"T_8121b158_b509_11ea_81d7_98fa9b5629d8row10_col5\" class=\"data row10 col5\" >0.48</td>\n",
       "                        <td id=\"T_8121b158_b509_11ea_81d7_98fa9b5629d8row10_col6\" class=\"data row10 col6\" >0.64</td>\n",
       "                        <td id=\"T_8121b158_b509_11ea_81d7_98fa9b5629d8row10_col7\" class=\"data row10 col7\" >0.39</td>\n",
       "                        <td id=\"T_8121b158_b509_11ea_81d7_98fa9b5629d8row10_col8\" class=\"data row10 col8\" >0.38</td>\n",
       "                        <td id=\"T_8121b158_b509_11ea_81d7_98fa9b5629d8row10_col9\" class=\"data row10 col9\" >0.44</td>\n",
       "                        <td id=\"T_8121b158_b509_11ea_81d7_98fa9b5629d8row10_col10\" class=\"data row10 col10\" >1.00</td>\n",
       "            </tr>\n",
       "    </tbody></table>"
      ],
      "text/plain": [
       "<pandas.io.formats.style.Styler at 0x25af70f2f08>"
      ]
     },
     "execution_count": 14,
     "metadata": {},
     "output_type": "execute_result"
    }
   ],
   "source": [
    "# Correlation number columns\n",
    "corr = credit_card_data.corr()\n",
    "corr.style.background_gradient(cmap='coolwarm').set_precision(2)"
   ]
  },
  {
   "cell_type": "markdown",
   "metadata": {},
   "source": [
    "## Handling Data"
   ]
  },
  {
   "cell_type": "code",
   "execution_count": 15,
   "metadata": {},
   "outputs": [
    {
     "data": {
      "text/html": [
       "<div>\n",
       "<style scoped>\n",
       "    .dataframe tbody tr th:only-of-type {\n",
       "        vertical-align: middle;\n",
       "    }\n",
       "\n",
       "    .dataframe tbody tr th {\n",
       "        vertical-align: top;\n",
       "    }\n",
       "\n",
       "    .dataframe thead th {\n",
       "        text-align: right;\n",
       "    }\n",
       "</style>\n",
       "<table border=\"1\" class=\"dataframe\">\n",
       "  <thead>\n",
       "    <tr style=\"text-align: right;\">\n",
       "      <th></th>\n",
       "      <th>Merchant_id</th>\n",
       "      <th>Average Amount/transaction/day</th>\n",
       "      <th>Transaction_amount</th>\n",
       "      <th>Is declined</th>\n",
       "      <th>Total Number of declines/day</th>\n",
       "      <th>isForeignTransaction</th>\n",
       "      <th>isHighRiskCountry</th>\n",
       "      <th>Daily_chargeback_avg_amt</th>\n",
       "      <th>6_month_avg_chbk_amt</th>\n",
       "      <th>6-month_chbk_freq</th>\n",
       "      <th>isFradulent</th>\n",
       "    </tr>\n",
       "  </thead>\n",
       "  <tbody>\n",
       "    <tr>\n",
       "      <th>True</th>\n",
       "      <td>3075</td>\n",
       "      <td>3075</td>\n",
       "      <td>3075</td>\n",
       "      <td>3075</td>\n",
       "      <td>3075</td>\n",
       "      <td>3075</td>\n",
       "      <td>3075</td>\n",
       "      <td>3075</td>\n",
       "      <td>3075</td>\n",
       "      <td>3075</td>\n",
       "      <td>3075</td>\n",
       "    </tr>\n",
       "  </tbody>\n",
       "</table>\n",
       "</div>"
      ],
      "text/plain": [
       "      Merchant_id  Average Amount/transaction/day  Transaction_amount  \\\n",
       "True         3075                            3075                3075   \n",
       "\n",
       "      Is declined  Total Number of declines/day  isForeignTransaction  \\\n",
       "True         3075                          3075                  3075   \n",
       "\n",
       "      isHighRiskCountry  Daily_chargeback_avg_amt  6_month_avg_chbk_amt  \\\n",
       "True               3075                      3075                  3075   \n",
       "\n",
       "      6-month_chbk_freq  isFradulent  \n",
       "True               3075         3075  "
      ]
     },
     "execution_count": 15,
     "metadata": {},
     "output_type": "execute_result"
    }
   ],
   "source": [
    "credit_card_data.notnull().apply(pd.Series.value_counts)\n",
    "# When False have a number is for this column have nulls, like LotFrontage have nulls"
   ]
  },
  {
   "cell_type": "code",
   "execution_count": 16,
   "metadata": {
    "scrolled": true
   },
   "outputs": [
    {
     "data": {
      "text/plain": [
       "False    11\n",
       "dtype: int64"
      ]
     },
     "execution_count": 16,
     "metadata": {},
     "output_type": "execute_result"
    }
   ],
   "source": [
    " credit_card_data.isnull().any().value_counts()"
   ]
  },
  {
   "cell_type": "markdown",
   "metadata": {},
   "source": [
    "We haven't features with nulls"
   ]
  },
  {
   "cell_type": "code",
   "execution_count": 17,
   "metadata": {},
   "outputs": [
    {
     "data": {
      "image/png": "[encoded data removed]",
      "text/plain": [
       "<Figure size 1800x720 with 2 Axes>"
      ]
     },
     "metadata": {
      "needs_background": "light"
     },
     "output_type": "display_data"
    }
   ],
   "source": [
    "msno.matrix(credit_card_data);"
   ]
  },
  {
   "cell_type": "markdown",
   "metadata": {},
   "source": [
    "#### Split the data"
   ]
  },
  {
   "cell_type": "code",
   "execution_count": 18,
   "metadata": {},
   "outputs": [
    {
     "name": "stdout",
     "output_type": "stream",
     "text": [
      "X shape (3075, 10)\n",
      "y shape (3075, 1)\n",
      "X_train shape (2152, 10)\n",
      "y_train shape (2152, 1)\n",
      "X_test shape (923, 10)\n",
      "y_test shape (923, 1)\n"
     ]
    }
   ],
   "source": [
    "# Features and target\n",
    "X = credit_card_data.drop(['isFradulent'], axis=1)\n",
    "y = credit_card_data[['isFradulent']]\n",
    "\n",
    "print(f\"\"\"X shape {X.shape}\n",
    "y shape {y.shape}\"\"\")\n",
    "\n",
    "\n",
    "# train test split\n",
    "from sklearn.model_selection import train_test_split\n",
    "X_train, X_test, y_train, y_test = \\\n",
    "    train_test_split(X, y, test_size=0.3, shuffle=True, random_state=1)\n",
    "\n",
    "\n",
    "print(f\"\"\"X_train shape {X_train.shape}\n",
    "y_train shape {y_train.shape}\n",
    "X_test shape {X_test.shape}\n",
    "y_test shape {y_test.shape}\"\"\")"
   ]
  },
  {
   "cell_type": "markdown",
   "metadata": {},
   "source": [
    "__Best features for classifier models__"
   ]
  },
  {
   "cell_type": "code",
   "execution_count": 19,
   "metadata": {},
   "outputs": [
    {
     "name": "stdout",
     "output_type": "stream",
     "text": [
      "('Merchant_id', 0.03483031438858131)\n",
      "('Average Amount/transaction/day', 0.02956912297733627)\n",
      "('Transaction_amount', 0.1344237941155617)\n",
      "('Is declined', 0.00473676673872081)\n",
      "('Total Number of declines/day', 0.10773542737807329)\n",
      "('isForeignTransaction', 0.09166762441056697)\n",
      "('isHighRiskCountry', 0.15896983601344594)\n",
      "('Daily_chargeback_avg_amt', 0.07935195934272521)\n",
      "('6_month_avg_chbk_amt', 0.048713918567421466)\n",
      "('6-month_chbk_freq', 0.0639683180778503)\n"
     ]
    },
    {
     "data": {
      "image/png": "[encoded data removed]",
      "text/plain": [
       "<Figure size 2520x576 with 1 Axes>"
      ]
     },
     "metadata": {
      "needs_background": "light"
     },
     "output_type": "display_data"
    }
   ],
   "source": [
    "from sklearn.feature_selection import SelectKBest\n",
    "from sklearn.feature_selection import mutual_info_regression\n",
    "clf_selector = SelectKBest(mutual_info_regression, k=10)\n",
    "clf_selector.fit(X_train,y_train['isFradulent'])\n",
    "clf_scores = clf_selector.scores_\n",
    "\n",
    "\n",
    "plt.rcParams[\"figure.figsize\"] = [35,8]\n",
    "plt.plot(clf_scores)\n",
    "plt.xticks(np.arange(11),list(X.columns));\n",
    "print(*dict(zip(X.columns,clf_scores)).items(), sep='\\n')"
   ]
  },
  {
   "cell_type": "markdown",
   "metadata": {},
   "source": [
    "IsHighRiskCountry is most important feature for the predictor"
   ]
  },
  {
   "cell_type": "code",
   "execution_count": 20,
   "metadata": {},
   "outputs": [
    {
     "data": {
      "text/plain": [
       "['Transaction_amount',\n",
       " 'Total Number of declines/day',\n",
       " 'isForeignTransaction',\n",
       " 'isHighRiskCountry',\n",
       " 'Daily_chargeback_avg_amt',\n",
       " '6_month_avg_chbk_amt',\n",
       " '6-month_chbk_freq']"
      ]
     },
     "execution_count": 20,
     "metadata": {},
     "output_type": "execute_result"
    }
   ],
   "source": [
    "clf_best_cols = [X_train.columns[i] for i,j in enumerate(clf_scores) if j > 0.04]\n",
    "clf_best_cols"
   ]
  },
  {
   "cell_type": "markdown",
   "metadata": {},
   "source": [
    "## Modeling"
   ]
  },
  {
   "cell_type": "code",
   "execution_count": 21,
   "metadata": {},
   "outputs": [],
   "source": [
    "from sklearn.model_selection import GridSearchCV"
   ]
  },
  {
   "cell_type": "code",
   "execution_count": 22,
   "metadata": {
    "scrolled": true
   },
   "outputs": [],
   "source": [
    "#plt.scatter(X_test['Merchant_id'], y_pred_test)\n",
    "#plt.title('Plot predict data')"
   ]
  },
  {
   "cell_type": "markdown",
   "metadata": {},
   "source": [
    "### Kmeans"
   ]
  },
  {
   "cell_type": "code",
   "execution_count": 23,
   "metadata": {},
   "outputs": [],
   "source": [
    "from sklearn.cluster import KMeans"
   ]
  },
  {
   "cell_type": "code",
   "execution_count": 24,
   "metadata": {},
   "outputs": [],
   "source": [
    "KM_parameters = {'max_iter':range(100,1001,100), 'algorithm':[\"full\", \"elkan\"], 'init':['random','k-means++'],'n_init':range(10,101,10)}"
   ]
  },
  {
   "cell_type": "code",
   "execution_count": 25,
   "metadata": {},
   "outputs": [
    {
     "name": "stdout",
     "output_type": "stream",
     "text": [
      "Fitting 5 folds for each of 400 candidates, totalling 2000 fits\n"
     ]
    },
    {
     "name": "stderr",
     "output_type": "stream",
     "text": [
      "[Parallel(n_jobs=4)]: Using backend LokyBackend with 4 concurrent workers.\n",
      "[Parallel(n_jobs=4)]: Done  42 tasks      | elapsed:   12.9s\n",
      "[Parallel(n_jobs=4)]: Done 192 tasks      | elapsed:   44.3s\n",
      "[Parallel(n_jobs=4)]: Done 442 tasks      | elapsed:  1.6min\n",
      "[Parallel(n_jobs=4)]: Done 792 tasks      | elapsed:  2.6min\n",
      "[Parallel(n_jobs=4)]: Done 1242 tasks      | elapsed:  3.7min\n",
      "[Parallel(n_jobs=4)]: Done 1792 tasks      | elapsed:  4.8min\n",
      "[Parallel(n_jobs=4)]: Done 2000 out of 2000 | elapsed:  5.3min finished\n"
     ]
    },
    {
     "name": "stdout",
     "output_type": "stream",
     "text": [
      "Best KM1  0.5009172826849403 {'algorithm': 'full', 'init': 'k-means++', 'max_iter': 100, 'n_init': 10}\n"
     ]
    }
   ],
   "source": [
    "from sklearn.metrics import make_scorer, f1_score\n",
    "\n",
    "\n",
    "\n",
    "f1sc = make_scorer(f1_score, average='micro')\n",
    "\n",
    "KM1 = GridSearchCV(KMeans(n_clusters=2, random_state=1), KM_parameters, n_jobs=4, cv=5, scoring=f1sc, return_train_score=True, verbose=1) #5 kfolds\n",
    "KM1.fit(X=X_train, y=y_train['isFradulent'])\n",
    "KM_model1 = KM1.best_estimator_\n",
    "print('Best KM1 ', KM1.best_score_, KM1.best_params_) "
   ]
  },
  {
   "cell_type": "code",
   "execution_count": 26,
   "metadata": {},
   "outputs": [
    {
     "name": "stdout",
     "output_type": "stream",
     "text": [
      "Fitting 5 folds for each of 400 candidates, totalling 2000 fits\n"
     ]
    },
    {
     "name": "stderr",
     "output_type": "stream",
     "text": [
      "[Parallel(n_jobs=4)]: Using backend LokyBackend with 4 concurrent workers.\n",
      "[Parallel(n_jobs=4)]: Done  42 tasks      | elapsed:   11.6s\n",
      "[Parallel(n_jobs=4)]: Done 192 tasks      | elapsed:   51.3s\n",
      "[Parallel(n_jobs=4)]: Done 442 tasks      | elapsed:  1.9min\n",
      "[Parallel(n_jobs=4)]: Done 792 tasks      | elapsed:  3.3min\n",
      "[Parallel(n_jobs=4)]: Done 1242 tasks      | elapsed:  4.7min\n",
      "[Parallel(n_jobs=4)]: Done 1792 tasks      | elapsed:  6.1min\n",
      "[Parallel(n_jobs=4)]: Done 2000 out of 2000 | elapsed:  6.7min finished\n"
     ]
    },
    {
     "name": "stdout",
     "output_type": "stream",
     "text": [
      "Best KM2  0.6982970916743108 {'algorithm': 'full', 'init': 'k-means++', 'max_iter': 100, 'n_init': 20}\n"
     ]
    }
   ],
   "source": [
    "KM2 = GridSearchCV(KMeans(n_clusters=2, random_state=1), KM_parameters, n_jobs=4, cv=5, scoring=f1sc, return_train_score=True, verbose=1) #5 kfolds\n",
    "KM2.fit(X=X_train[clf_best_cols], y=y_train['isFradulent'])\n",
    "KM_model2 = KM2.best_estimator_\n",
    "print('Best KM2 ', KM2.best_score_, KM2.best_params_) "
   ]
  },
  {
   "cell_type": "markdown",
   "metadata": {},
   "source": [
    "### Insolation Forest"
   ]
  },
  {
   "cell_type": "markdown",
   "metadata": {},
   "source": [
    "Taking into account that the Insolation Forest algorithm returns values ​​of 1 or -1, a decision is made to transform the values ​​of the column to be predicted to match the values ​​of the algorithm."
   ]
  },
  {
   "cell_type": "code",
   "execution_count": 27,
   "metadata": {},
   "outputs": [],
   "source": [
    "y_train_IF = y_train.copy()"
   ]
  },
  {
   "cell_type": "code",
   "execution_count": 28,
   "metadata": {
    "scrolled": true
   },
   "outputs": [],
   "source": [
    "y_train_IF[y_train['isFradulent'] == 1] = -1"
   ]
  },
  {
   "cell_type": "code",
   "execution_count": 29,
   "metadata": {},
   "outputs": [],
   "source": [
    "y_train_IF[y_train['isFradulent'] == 0] = 1"
   ]
  },
  {
   "cell_type": "code",
   "execution_count": 30,
   "metadata": {},
   "outputs": [],
   "source": [
    "from sklearn.ensemble import IsolationForest"
   ]
  },
  {
   "cell_type": "code",
   "execution_count": 31,
   "metadata": {},
   "outputs": [],
   "source": [
    "IF_parameters = {'n_estimators':range(100,1001,100), 'max_samples':[100,500,2000,'auto']}"
   ]
  },
  {
   "cell_type": "code",
   "execution_count": 32,
   "metadata": {},
   "outputs": [
    {
     "name": "stdout",
     "output_type": "stream",
     "text": [
      "Fitting 5 folds for each of 40 candidates, totalling 200 fits\n"
     ]
    },
    {
     "name": "stderr",
     "output_type": "stream",
     "text": [
      "[Parallel(n_jobs=4)]: Using backend LokyBackend with 4 concurrent workers.\n",
      "[Parallel(n_jobs=4)]: Done  42 tasks      | elapsed:   43.2s\n",
      "[Parallel(n_jobs=4)]: Done 192 tasks      | elapsed:  3.6min\n",
      "[Parallel(n_jobs=4)]: Done 200 out of 200 | elapsed:  3.9min finished\n"
     ]
    },
    {
     "name": "stdout",
     "output_type": "stream",
     "text": [
      "Best IF1  0.9539912588355905 {'max_samples': 500, 'n_estimators': 500}\n"
     ]
    }
   ],
   "source": [
    "# Train with all features\n",
    "from sklearn.metrics import make_scorer, f1_score\n",
    "f1sc = make_scorer(f1_score, average='micro')\n",
    "\n",
    "IF1 = GridSearchCV(IsolationForest(random_state=1), IF_parameters, n_jobs=4, cv=5, scoring=f1sc, return_train_score=True, verbose=1) #5 kfolds\n",
    "IF1.fit(X=X_train, y=y_train_IF['isFradulent'])\n",
    "IF_model1 = IF1.best_estimator_\n",
    "print('Best IF1 ', IF1.best_score_, IF1.best_params_) "
   ]
  },
  {
   "cell_type": "code",
   "execution_count": 33,
   "metadata": {},
   "outputs": [
    {
     "name": "stdout",
     "output_type": "stream",
     "text": [
      "Fitting 5 folds for each of 40 candidates, totalling 200 fits\n"
     ]
    },
    {
     "name": "stderr",
     "output_type": "stream",
     "text": [
      "[Parallel(n_jobs=4)]: Using backend LokyBackend with 4 concurrent workers.\n",
      "[Parallel(n_jobs=4)]: Done  42 tasks      | elapsed:   42.0s\n",
      "[Parallel(n_jobs=4)]: Done 192 tasks      | elapsed:  3.6min\n",
      "[Parallel(n_jobs=4)]: Done 200 out of 200 | elapsed:  3.9min finished\n"
     ]
    },
    {
     "name": "stdout",
     "output_type": "stream",
     "text": [
      "Best IF2  0.9530642637457507 {'max_samples': 2000, 'n_estimators': 700}\n"
     ]
    }
   ],
   "source": [
    "# Train with best features\n",
    "\n",
    "\n",
    "IF2 = GridSearchCV(IsolationForest(random_state=1), IF_parameters, n_jobs=4, cv=5, scoring=f1sc, return_train_score=True, verbose=1) #5 kfolds\n",
    "IF2.fit(X=X_train[clf_best_cols], y=y_train_IF['isFradulent'])\n",
    "IF_model2 = IF2.best_estimator_\n",
    "print('Best IF2 ', IF2.best_score_, IF2.best_params_) "
   ]
  },
  {
   "cell_type": "markdown",
   "metadata": {},
   "source": [
    "### Comparison"
   ]
  },
  {
   "cell_type": "code",
   "execution_count": 34,
   "metadata": {},
   "outputs": [],
   "source": [
    "pred_clf_IF_all=IF_model1.predict(X_test) # 1. Predict Isolation Forest classifier with all features\n",
    "pred_clf_IF_best=IF_model2.predict(X_test[clf_best_cols]) # 2. Predict Isolation Forest classifier with only best features\n",
    "pred_clf_KM_all=KM_model1.predict(X_test) # 3. Predict Kmeans classifier with all features\n",
    "pred_clf_KM_best=KM_model2.predict(X_test[clf_best_cols]) # 4. Predict Kmeans classifier with only best features"
   ]
  },
  {
   "cell_type": "code",
   "execution_count": 35,
   "metadata": {},
   "outputs": [],
   "source": [
    "predict_clf_dict = {'pred_clf_IF_all':pred_clf_IF_all,\n",
    "                      'pred_clf_IF_best':pred_clf_IF_best,\n",
    "                      'pred_clf_KM_all':pred_clf_KM_all,\n",
    "                      'pred_clf_KM_best':pred_clf_KM_best}"
   ]
  },
  {
   "cell_type": "code",
   "execution_count": 36,
   "metadata": {},
   "outputs": [],
   "source": [
    "from sklearn.metrics import (mean_squared_error,confusion_matrix, plot_confusion_matrix, f1_score)\n",
    "from sklearn.metrics import classification_report"
   ]
  },
  {
   "cell_type": "markdown",
   "metadata": {},
   "source": [
    "### Classifiers"
   ]
  },
  {
   "cell_type": "code",
   "execution_count": 37,
   "metadata": {},
   "outputs": [],
   "source": [
    "y_test_IF = y_test.copy()\n",
    "y_test_IF[y_test['isFradulent'] == 1] = -1\n",
    "y_test_IF[y_test['isFradulent'] == 0] = 1"
   ]
  },
  {
   "cell_type": "code",
   "execution_count": 54,
   "metadata": {},
   "outputs": [
    {
     "name": "stdout",
     "output_type": "stream",
     "text": [
      "____________________ pred_clf_IF_all ____________________\n",
      "              precision    recall  f1-score   support\n",
      "\n",
      "     class 1       0.81      0.88      0.84       135\n",
      "     class 0       0.98      0.96      0.97       788\n",
      "\n",
      "    accuracy                           0.95       923\n",
      "   macro avg       0.89      0.92      0.91       923\n",
      "weighted avg       0.95      0.95      0.95       923\n",
      "\n",
      "____________________________________________________________ \n",
      "\n",
      "____________________ pred_clf_IF_best ____________________\n",
      "              precision    recall  f1-score   support\n",
      "\n",
      "     class 1       0.79      0.89      0.84       135\n",
      "     class 0       0.98      0.96      0.97       788\n",
      "\n",
      "    accuracy                           0.95       923\n",
      "   macro avg       0.89      0.92      0.90       923\n",
      "weighted avg       0.95      0.95      0.95       923\n",
      "\n",
      "____________________________________________________________ \n",
      "\n",
      "____________________ pred_clf_KM_all ____________________\n",
      "              precision    recall  f1-score   support\n",
      "\n",
      "     class 1       0.87      0.52      0.65       788\n",
      "     class 0       0.16      0.53      0.24       135\n",
      "\n",
      "    accuracy                           0.52       923\n",
      "   macro avg       0.51      0.53      0.45       923\n",
      "weighted avg       0.76      0.52      0.59       923\n",
      "\n",
      "____________________________________________________________ \n",
      "\n",
      "____________________ pred_clf_KM_best ____________________\n",
      "              precision    recall  f1-score   support\n",
      "\n",
      "     class 1       0.92      0.83      0.87       788\n",
      "     class 0       0.38      0.61      0.47       135\n",
      "\n",
      "    accuracy                           0.80       923\n",
      "   macro avg       0.65      0.72      0.67       923\n",
      "weighted avg       0.84      0.80      0.81       923\n",
      "\n",
      "____________________________________________________________ \n",
      "\n"
     ]
    }
   ],
   "source": [
    "# report\n",
    "target_names = ['class 1', 'class 0']\n",
    "\n",
    "\n",
    "\n",
    "print('_'*20,'pred_clf_IF_all','_'*20)\n",
    "print(classification_report(y_test_IF['isFradulent'], predict_clf_dict['pred_clf_IF_all'], target_names=target_names))\n",
    "print('_'*60,'\\n')\n",
    "\n",
    "print('_'*20,'pred_clf_IF_best','_'*20)\n",
    "print(classification_report(y_test_IF['isFradulent'], predict_clf_dict['pred_clf_IF_best'], target_names=target_names))\n",
    "print('_'*60,'\\n')\n",
    "\n",
    "print('_'*20,'pred_clf_KM_all','_'*20)\n",
    "print(classification_report(y_test['isFradulent'], predict_clf_dict['pred_clf_KM_all'], target_names=target_names))\n",
    "print('_'*60,'\\n')\n",
    "\n",
    "print('_'*20,'pred_clf_KM_best','_'*20)\n",
    "print(classification_report(y_test['isFradulent'], predict_clf_dict['pred_clf_KM_best'], target_names=target_names))\n",
    "print('_'*60,'\\n')"
   ]
  },
  {
   "cell_type": "code",
   "execution_count": 39,
   "metadata": {},
   "outputs": [],
   "source": [
    "clf_scores = dict()\n",
    "\n",
    "clf_scores['pred_clf_IF_all'] = confusion_matrix(y_test_IF['isFradulent'], predict_clf_dict['pred_clf_IF_all'])\n",
    "clf_scores['pred_clf_IF_best'] = confusion_matrix(y_test_IF['isFradulent'], predict_clf_dict['pred_clf_IF_best'])\n",
    "\n",
    "clf_scores['pred_clf_KM_all'] = confusion_matrix(y_test['isFradulent'], predict_clf_dict['pred_clf_KM_all'])\n",
    "clf_scores['pred_clf_KM_best'] = confusion_matrix(y_test['isFradulent'], predict_clf_dict['pred_clf_KM_best'])"
   ]
  },
  {
   "cell_type": "code",
   "execution_count": 53,
   "metadata": {},
   "outputs": [
    {
     "name": "stdout",
     "output_type": "stream",
     "text": [
      "Confusion matrix\n",
      "\n",
      "pred_clf_IF_all\n",
      " [[119  16]\n",
      " [ 28 760]]\n",
      "pred_clf_IF_best\n",
      " [[120  15]\n",
      " [ 32 756]]\n",
      "pred_clf_KM_all\n",
      " [[413 375]\n",
      " [ 64  71]]\n",
      "pred_clf_KM_best\n",
      " [[653 135]\n",
      " [ 53  82]]\n"
     ]
    }
   ],
   "source": [
    "print('Confusion matrix\\n')\n",
    "for i, j in clf_scores.items():\n",
    "    print(f'{i}\\n', j)"
   ]
  },
  {
   "cell_type": "code",
   "execution_count": 59,
   "metadata": {},
   "outputs": [
    {
     "data": {
      "text/plain": [
       "Text(0.5, 1.0, 'Plot Merchant id is fraudulent?')"
      ]
     },
     "execution_count": 59,
     "metadata": {},
     "output_type": "execute_result"
    },
    {
     "data": {
      "image/png": "[encoded data removed]",
      "text/plain": [
       "<Figure size 2520x576 with 1 Axes>"
      ]
     },
     "metadata": {
      "needs_background": "light"
     },
     "output_type": "display_data"
    }
   ],
   "source": [
    "plt.scatter(X_test['Merchant_id'], y_test_IF['isFradulent'])\n",
    "plt.title('Plot Merchant id is fraudulent? Real column')"
   ]
  },
  {
   "cell_type": "code",
   "execution_count": 60,
   "metadata": {},
   "outputs": [
    {
     "data": {
      "text/plain": [
       "Text(0.5, 1.0, 'Plot Merchant id is fraudulent? Predict Column')"
      ]
     },
     "execution_count": 60,
     "metadata": {},
     "output_type": "execute_result"
    },
    {
     "data": {
      "image/png": "[encoded data removed]",
      "text/plain": [
       "<Figure size 2520x576 with 1 Axes>"
      ]
     },
     "metadata": {
      "needs_background": "light"
     },
     "output_type": "display_data"
    }
   ],
   "source": [
    "plt.scatter(X_test['Merchant_id'], pred_clf_IF_all)\n",
    "plt.title('Plot Merchant id is fraudulent? Predict Column')"
   ]
  },
  {
   "cell_type": "markdown",
   "metadata": {},
   "source": [
    "### Conclusiones"
   ]
  },
  {
   "cell_type": "markdown",
   "metadata": {},
   "source": [
    "* De acuerdo al algoritmo de indentificación de columnas relevantes en el conjunto de datos, se concluye que la columna más importante es \"IsHighRiskCountry\".  \n",
    "* Para el conjunto de datos manipulados en el ejercicio, el algoritmo Kmeans tiene una baja efectividad en la identificación de anomalías. El F1 score máximo arrojado fue de 0.69829.  \n",
    "* Según el F1 score de 0.95399 para el conjunto de datos, el algoritmo \"Isolation Forest\"  entrenado con todas las columnas, el mejor modelo que puede aplicarse para la resolución del ejercicio. "
   ]
  },
  {
   "cell_type": "markdown",
   "metadata": {},
   "source": [
    "***Integrantes:***\n",
    "\n",
    "**Erika Brand, Diana Rodríguez, Edwar Nieves, William Arevalo, Ronald Cuello**\n",
    "\n",
    "**TABLA DE VALORACION INDIVIDUAL:**\n",
    "\n",
    "\t\t\n",
    "\n",
    "|                                                            | Sí | No | Aveces | \n",
    "|:----------------------------------------------------------  |----|----|--------|\n",
    "| Todos los miembros se han integrado al trabajo del grupo   |  X  |    |        | \n",
    "| Todos los miembros participan activamente                  |  X  |    |        | \n",
    "| Todos los miembros respetan otras ideas aportadas          |  X  |    |        |\n",
    "| Todos los miembros participan en la elaboración del informe|  X  |    |        | \n",
    "| Me he preocupado por realizar un trabajo cooperativo con mis compañeros| X   |   |        | \n",
    "| Señala si consideras que algún aspecto del trabajo en grupo no ha sido adecuado|    |  X  |        |\n"
   ]
  },
  {
   "cell_type": "markdown",
   "metadata": {},
   "source": [
    "___END___"
   ]
  }
 ],
 "metadata": {
  "kernelspec": {
   "display_name": "Python 3",
   "language": "python",
   "name": "python3"
  },
  "language_info": {
   "codemirror_mode": {
    "name": "ipython",
    "version": 3
   },
   "file_extension": ".py",
   "mimetype": "text/x-python",
   "name": "python",
   "nbconvert_exporter": "python",
   "pygments_lexer": "ipython3",
   "version": "3.7.6"
  }
 },
 "nbformat": 4,
 "nbformat_minor": 4
}
